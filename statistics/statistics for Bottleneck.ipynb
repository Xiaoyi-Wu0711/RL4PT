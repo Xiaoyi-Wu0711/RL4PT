{
 "cells": [
  {
   "cell_type": "code",
   "execution_count": 2,
   "metadata": {},
   "outputs": [],
   "source": [
    "import numpy as np\n",
    "import pandas as pd\n",
    "import matplotlib.pyplot as plt"
   ]
  },
  {
   "cell_type": "code",
   "execution_count": null,
   "metadata": {},
   "outputs": [
    {
     "data": {
      "text/plain": [
       "array([1080.6056357 ,  211.11518727,   65.80871479, ...,  179.5097903 ,\n",
       "        241.37572507,  179.30369356])"
      ]
     },
     "execution_count": 8,
     "metadata": {},
     "output_type": "execute_result"
    }
   ],
   "source": [
    "import numpy as np\n",
    "swvec = np.load(\"../output/Trinity_normal/swvec.npy\")\n",
    "ptvec = np.load(\"../output/Trinity_normal/ptvec.npy\")\n",
    "pricevec = np.load(\"../output/Trinity_normal/pricevec.npy\")"
   ]
  },
  {
   "cell_type": "code",
   "execution_count": 12,
   "metadata": {},
   "outputs": [
    {
     "name": "stdout",
     "output_type": "stream",
     "text": [
      "[45837.16614936 44352.72960829 44273.01083862 44214.78330861\n",
      " 44254.96035654 44252.91819954 44236.24684605 44249.03766922\n",
      " 44231.6938413  44234.53826566]\n"
     ]
    }
   ],
   "source": [
    "print(np.load(\"../output/Bottleneck/Trinity_normal/swvec.npy\"))\n"
   ]
  },
  {
   "cell_type": "code",
   "execution_count": null,
   "metadata": {},
   "outputs": [
    {
     "data": {
      "text/plain": [
       "array([1101.09173217,  211.43822805,   66.06783804, ...,  191.251502  ,\n",
       "        248.36975687,  181.18485604])"
      ]
     },
     "execution_count": 4,
     "metadata": {},
     "output_type": "execute_result"
    }
   ],
   "source": [
    "import numpy as np\n",
    "\n",
    "util =  np.load(\"../output/tmp_BO_Bottleneck_normal/util.npy\")\n",
    "\n",
    "util\n"
   ]
  },
  {
   "cell_type": "code",
   "execution_count": 1,
   "metadata": {},
   "outputs": [
    {
     "data": {
      "text/plain": [
       "2.671333333333333"
      ]
     },
     "execution_count": 1,
     "metadata": {},
     "output_type": "execute_result"
    }
   ],
   "source": [
    "20035/7500"
   ]
  },
  {
   "cell_type": "code",
   "execution_count": null,
   "metadata": {},
   "outputs": [],
   "source": [
    "util-NT"
   ]
  },
  {
   "cell_type": "code",
   "execution_count": 6,
   "metadata": {},
   "outputs": [
    {
     "data": {
      "text/plain": [
       "array([20.48609646,  0.32304078,  0.25912326, ..., 11.74171169,\n",
       "        6.9940318 ,  1.88116248])"
      ]
     },
     "execution_count": 6,
     "metadata": {},
     "output_type": "execute_result"
    }
   ],
   "source": [
    "ub = np.load(\"../output/tmp_BO_Bottleneck_normal/userBenefits.npy\")"
   ]
  },
  {
   "cell_type": "code",
   "execution_count": 7,
   "metadata": {},
   "outputs": [
    {
     "data": {
      "text/plain": [
       "array(-18.347351)"
      ]
     },
     "execution_count": 7,
     "metadata": {},
     "output_type": "execute_result"
    }
   ],
   "source": [
    "np.load(\"../output/tmp_BO_Bottleneck_normal/RR.npy\")"
   ]
  },
  {
   "cell_type": "code",
   "execution_count": 6,
   "metadata": {},
   "outputs": [
    {
     "data": {
      "text/plain": [
       "array([35.88445609, 34.83952182, 34.79488364, 34.76435737, 34.69855979,\n",
       "       34.64373209, 34.5805685 , 34.54933439, 34.48231498, 34.45866835,\n",
       "       34.40600345, 34.37744003, 34.34563663, 34.3227536 , 34.27537322,\n",
       "       34.25271943, 34.23930831, 34.22523859, 34.19858631, 34.18601462,\n",
       "       34.17837193, 34.16272751, 34.13397566, 34.12855106, 34.10125419,\n",
       "       34.0893958 , 34.07443538, 34.0747346 , 34.06133021, 34.06048535])"
      ]
     },
     "execution_count": 6,
     "metadata": {},
     "output_type": "execute_result"
    }
   ],
   "source": [
    "np.load(\"../output/MFD/Trinity/ttvec.npy\")"
   ]
  },
  {
   "cell_type": "code",
   "execution_count": null,
   "metadata": {},
   "outputs": [],
   "source": []
  }
 ],
 "metadata": {
  "kernelspec": {
   "display_name": "py38",
   "language": "python",
   "name": "python3"
  },
  "language_info": {
   "codemirror_mode": {
    "name": "ipython",
    "version": 3
   },
   "file_extension": ".py",
   "mimetype": "text/x-python",
   "name": "python",
   "nbconvert_exporter": "python",
   "pygments_lexer": "ipython3",
   "version": "3.8.17"
  },
  "orig_nbformat": 4
 },
 "nbformat": 4,
 "nbformat_minor": 2
}
