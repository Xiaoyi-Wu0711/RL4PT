{
 "cells": [
  {
   "cell_type": "code",
   "execution_count": 2,
   "metadata": {},
   "outputs": [],
   "source": [
    "import numpy as np\n",
    "import pandas as pd\n",
    "import matplotlib.pyplot as plt"
   ]
  },
  {
   "cell_type": "code",
   "execution_count": 3,
   "metadata": {},
   "outputs": [
    {
     "data": {
      "text/plain": [
       "array([0.79774942, 0.16511766, 0.06685928, ..., 0.14721664, 0.193332  ,\n",
       "       0.14344158])"
      ]
     },
     "execution_count": 3,
     "metadata": {},
     "output_type": "execute_result"
    }
   ],
   "source": [
    "np.load(\"../output/MFD_pt_60/NT/vot.npy\")"
   ]
  },
  {
   "cell_type": "code",
   "execution_count": 4,
   "metadata": {},
   "outputs": [
    {
     "data": {
      "text/plain": [
       "array([[ 0.46152728, -0.35914695, -5.56096113, ..., -1.17881028,\n",
       "        -4.87370835, -2.1239483 ],\n",
       "       [ 0.1410901 , -4.88901887, -0.45715082, ..., -0.83354541,\n",
       "         1.02835858,  0.19748241],\n",
       "       [ 0.71483539, -1.09572535, -0.07324146, ..., -1.13583452,\n",
       "        -0.51300929,  0.29978061],\n",
       "       ...,\n",
       "       [-0.90088249, -3.63493755, -0.25337156, ..., -0.73349433,\n",
       "         2.21431728, -1.43743084],\n",
       "       [-1.46639453,  1.15284735,  0.91890141, ...,  0.3969428 ,\n",
       "        -2.43762759,  0.70710913],\n",
       "       [ 1.73554828,  0.72543451, -0.51624891, ...,  1.34409181,\n",
       "        -0.92546521, -0.3464547 ]])"
      ]
     },
     "execution_count": 4,
     "metadata": {},
     "output_type": "execute_result"
    }
   ],
   "source": [
    "np.load(\"../output/MFD_pt_60/NT/user_eps.npy\")"
   ]
  },
  {
   "cell_type": "code",
   "execution_count": 5,
   "metadata": {},
   "outputs": [
    {
     "data": {
      "text/plain": [
       "array([0.59831206, 0.12383825, 0.05014446, ..., 0.11041248, 0.144999  ,\n",
       "       0.10758119])"
      ]
     },
     "execution_count": 5,
     "metadata": {},
     "output_type": "execute_result"
    }
   ],
   "source": [
    "np.load(\"../input_vot_change/vot.npy\")"
   ]
  },
  {
   "cell_type": "code",
   "execution_count": 6,
   "metadata": {},
   "outputs": [
    {
     "data": {
      "text/plain": [
       "(7500,)"
      ]
     },
     "execution_count": 6,
     "metadata": {},
     "output_type": "execute_result"
    }
   ],
   "source": [
    "np.load(\"../output/MFD_vot_change/NT/NT_util.npy\").shape"
   ]
  },
  {
   "cell_type": "code",
   "execution_count": 7,
   "metadata": {},
   "outputs": [
    {
     "data": {
      "text/plain": [
       "array([0.59831206, 0.12383825, 0.05014446, ..., 0.11041248, 0.144999  ,\n",
       "       0.10758119])"
      ]
     },
     "execution_count": 7,
     "metadata": {},
     "output_type": "execute_result"
    }
   ],
   "source": [
    "np.load(\"../output/MFD_vot_change/NT/vot.npy\")"
   ]
  },
  {
   "cell_type": "code",
   "execution_count": 8,
   "metadata": {},
   "outputs": [
    {
     "data": {
      "text/plain": [
       "array([298677.38191269,  61820.05248074,  25032.11596594, ...,\n",
       "        55117.91150189,  72383.50226772,  53704.52808156])"
      ]
     },
     "execution_count": 8,
     "metadata": {},
     "output_type": "execute_result"
    }
   ],
   "source": [
    "np.load(\"../output/MFD_vot_change/NT/annualincome.npy\")"
   ]
  },
  {
   "cell_type": "code",
   "execution_count": 9,
   "metadata": {},
   "outputs": [
    {
     "data": {
      "text/plain": [
       "array([298677.38191269,  61820.05248074,  25032.11596594, ...,\n",
       "        55117.91150189,  72383.50226772,  53704.52808156])"
      ]
     },
     "execution_count": 9,
     "metadata": {},
     "output_type": "execute_result"
    }
   ],
   "source": [
    "np.load(\"../input_pt_60/annualincome.npy\")"
   ]
  },
  {
   "cell_type": "code",
   "execution_count": 10,
   "metadata": {},
   "outputs": [
    {
     "name": "stdout",
     "output_type": "stream",
     "text": [
      " mean AITT 62.509517325101214\n",
      " last 5 day mean AITT 62.02180982831742\n",
      " last 5 day mean car-only AITT 62.27019997490503\n",
      " first day mean AITT 44.12011217077114\n",
      " last day mean AITT 61.99019546308031\n",
      " last 5 day sw 278.66165305845686\n",
      " last 5 day PT user number 820.6\n",
      " last 5 day price 1.0\n"
     ]
    }
   ],
   "source": [
    "output_dir = \"../output/MFD_vot_change/NT/\"\n",
    "swvec = np.load(output_dir+\"swvec.npy\")\n",
    "ptsharevec = np.load(output_dir+\"ptsharevec.npy\")\n",
    "pricevec = np.load(output_dir+\"pricevec.npy\")\n",
    "flowdf =  pd.read_csv(output_dir+\"flowdf.csv\")\n",
    "a = flowdf.iloc[-7500*5:]\n",
    "b = a[a[\"departure\"]!=-1]\n",
    "print(\" mean AITT\", np.mean(flowdf.iloc[:, 4]))\n",
    "print(\" last 5 day mean AITT\", np.mean(flowdf.iloc[-7500*5:, 4]))\n",
    "print(\" last 5 day mean car-only AITT\", np.mean(np.mean(b[\"tt\"])))\n",
    "print(\" first day mean AITT\", np.mean(flowdf.iloc[:7500, 4]))\n",
    "print(\" last day mean AITT\", np.mean(flowdf.iloc[-7500:, 4]))\n",
    "print(\" last 5 day sw\", np.mean(swvec[-5:]/7500))\n",
    "print(\" last 5 day PT user number\", np.mean(ptsharevec[-5:]))\n",
    "print(\" last 5 day price\", np.round(np.mean(pricevec[-5:]),2 ))\n"
   ]
  },
  {
   "cell_type": "code",
   "execution_count": 14,
   "metadata": {},
   "outputs": [],
   "source": [
    "output_dir = \"../output/MFD_pt_60_new/Trinity/A_2/\"\n",
    "swvec = np.load(output_dir+\"swvec.npy\")\n",
    "ptsharevec = np.load(output_dir+\"ptsharevec.npy\")\n",
    "pricevec = np.load(output_dir+\"pricevec.npy\")\n",
    "userSell_util_vec = np.load(output_dir+\"userSell_util_vec.npy\")\n",
    "userBuy_util_vec = np.load(output_dir+\"userBuy_util_vec.npy\")\n",
    "\n",
    "# flowdf =  pd.read_csv(output_dir+\"flowdf.csv\")\n",
    "# a = flowdf.iloc[-7500*5:]\n",
    "# b = a[a[\"departure\"]!=-1]\n",
    "# print(\" mean AITT\", np.mean(flowdf.iloc[:, 4]))\n",
    "# print(\" last 5 day mean AITT\", np.mean(flowdf.iloc[-7500*5:, 4]))\n",
    "# print(\" last 5 day mean car-only AITT\", np.mean(np.mean(b[\"tt\"])))\n",
    "# print(\" first day mean AITT\", np.mean(flowdf.iloc[:7500, 4]))\n",
    "# print(\" last day mean AITT\", np.mean(flowdf.iloc[-7500:, 4]))\n",
    "print(\" last 5 day sw\", np.mean(swvec[-5:]/7500))\n",
    "# print(\" last 5 day PT user number\", np.mean(ptsharevec[-5:]))\n",
    "# print(\" last 5 day price\", np.round(np.mean(pricevec[-5:]),2 ))\n"
   ]
  },
  {
   "cell_type": "code",
   "execution_count": 89,
   "metadata": {},
   "outputs": [
    {
     "data": {
      "text/plain": [
       "<matplotlib.legend.Legend at 0x7f775334bd30>"
      ]
     },
     "execution_count": 89,
     "metadata": {},
     "output_type": "execute_result"
    },
    {
     "data": {
      "image/png": "[encoded data removed]",
      "text/plain": [
       "<Figure size 800x600 with 1 Axes>"
      ]
     },
     "metadata": {},
     "output_type": "display_data"
    }
   ],
   "source": [
    "fig, ax = plt.subplots(figsize=(8,6))\n",
    "plt.ylabel(\"Social welfare $ per capita\", fontsize= 10)\n",
    "plt.xlabel(\"Step number\", fontsize= 10)\n",
    "ax.tick_params(axis='x', labelsize= 10)\n",
    "ax.tick_params(axis='y', labelsize= 10)\n",
    "plt.tight_layout()\n",
    "# plt.ylim(-20, 20)\n",
    "base_path = \"../output/MFD_pt_60_new/NT\"\n",
    "for model_parameter in [0]: \n",
    "    sw_arr_0 = np.load(file=(base_path+\"/swvec.npy\"))\n",
    "    tt_util_arr_0 = np.load(file=(base_path+\"/tt_util_vec.npy\"))\n",
    "    sde_util_arr_0 = np.load(file=(base_path+\"/sde_util_vec.npy\"))\n",
    "    sdl_util_arr_0 = np.load(file=(base_path+\"/sdl_util_vec.npy\"))\n",
    "    userBuy_util_arr_0 = np.load(file=(base_path+\"/userBuy_util_vec.npy\"))\n",
    "    userSell_util_arr_0 = np.load(file=(base_path+\"/userSell_util_vec.npy\"))\n",
    "    ptwaiting_util_arr_0 = np.load(file=(base_path+\"/ptwaiting_util_vec.npy\"))\n",
    "    I_util_arr_0 = np.load(file=(base_path+\"/I_util_vec.npy\"))\n",
    "    fuelcost_util_arr_0 = np.load(file=(base_path+\"/fuelcost_util_vec.npy\"))\n",
    "\n",
    "    label_text = \"A=\"+ str(model_parameter)\n",
    "    # plt.plot(sw_arr_0[-1]/7500, label = \"sw\")\n",
    "    plt.plot(tt_util_arr_0/7500, label = \"tt_util\")\n",
    "    plt.plot(sde_util_arr_0/7500, label = \"sde_util\")\n",
    "    plt.plot(sdl_util_arr_0/7500, label = \"sdl_util\")\n",
    "    plt.plot(userBuy_util_arr_0/7500, label = \"userBuy_util\")\n",
    "    plt.plot(userSell_util_arr_0/7500, label = \"userSell_util\")\n",
    "    plt.plot(fuelcost_util_arr_0/7500, label = \"fuelcost_util\")\n",
    "\n",
    "    # plt.plot(I_util_arr_0/7500, label = \"I_util\")\n",
    "    plt.plot(ptwaiting_util_arr_0/7500, label = \"ptwaiting_util\")\n",
    "\n",
    "ax.legend()\n",
    "# fig.savefig(plot_path+\"/sw_com_\"+str(model_parameter)+\".jpeg\", dpi=fig.dpi)"
   ]
  },
  {
   "cell_type": "code",
   "execution_count": 90,
   "metadata": {},
   "outputs": [
    {
     "data": {
      "text/plain": [
       "array([6.26086957, 6.25273043])"
      ]
     },
     "execution_count": 90,
     "metadata": {},
     "output_type": "execute_result"
    }
   ],
   "source": [
    "fuelcost_util_arr_0/7500"
   ]
  },
  {
   "cell_type": "code",
   "execution_count": 84,
   "metadata": {},
   "outputs": [
    {
     "data": {
      "text/plain": [
       "array([0., 0.])"
      ]
     },
     "execution_count": 84,
     "metadata": {},
     "output_type": "execute_result"
    }
   ],
   "source": [
    "userSell_util_arr_0/7500"
   ]
  },
  {
   "cell_type": "code",
   "execution_count": 85,
   "metadata": {},
   "outputs": [
    {
     "data": {
      "text/plain": [
       "array([0., 0.])"
      ]
     },
     "execution_count": 85,
     "metadata": {},
     "output_type": "execute_result"
    }
   ],
   "source": [
    "userBuy_util_arr_0/7500"
   ]
  },
  {
   "cell_type": "code",
   "execution_count": 86,
   "metadata": {},
   "outputs": [
    {
     "data": {
      "text/plain": [
       "array([0.00659568, 0.00659257])"
      ]
     },
     "execution_count": 86,
     "metadata": {},
     "output_type": "execute_result"
    }
   ],
   "source": [
    "tt_util_arr_0/7500"
   ]
  },
  {
   "cell_type": "code",
   "execution_count": 60,
   "metadata": {},
   "outputs": [
    {
     "data": {
      "text/plain": [
       "array([275.0249241, 275.0249241, 275.0249241, 275.0249241, 275.0249241,\n",
       "       275.0249241, 275.0249241, 275.0249241, 275.0249241, 275.0249241,\n",
       "       275.0249241, 275.0249241, 275.0249241, 275.0249241, 275.0249241,\n",
       "       275.0249241, 275.0249241, 275.0249241, 275.0249241, 275.0249241,\n",
       "       275.0249241, 275.0249241, 275.0249241, 275.0249241, 275.0249241,\n",
       "       275.0249241, 275.0249241, 275.0249241, 275.0249241, 275.0249241,\n",
       "       275.0249241, 275.0249241, 275.0249241, 275.0249241, 275.0249241,\n",
       "       275.0249241, 275.0249241, 275.0249241, 275.0249241, 275.0249241,\n",
       "       275.0249241, 275.0249241, 275.0249241, 275.0249241, 275.0249241,\n",
       "       275.0249241, 275.0249241, 275.0249241, 275.0249241, 275.0249241,\n",
       "       275.0249241, 275.0249241, 275.0249241, 275.0249241, 275.0249241,\n",
       "       275.0249241, 275.0249241, 275.0249241, 275.0249241, 275.0249241])"
      ]
     },
     "execution_count": 60,
     "metadata": {},
     "output_type": "execute_result"
    }
   ],
   "source": [
    "I_util_arr_0/7500"
   ]
  },
  {
   "cell_type": "code",
   "execution_count": 61,
   "metadata": {},
   "outputs": [
    {
     "data": {
      "text/plain": [
       "array([13.19023781,  7.24105826,  7.63362881,  8.17265029,  8.92644749,\n",
       "        9.84858818, 11.27276657, 13.00235076, 15.10634228, 18.09542286,\n",
       "       21.57729048, 24.67764583, 16.97080012, 12.41597308, 10.85273601,\n",
       "       10.11419824,  9.7192616 ,  9.44901629,  9.11462533,  8.83351248,\n",
       "        8.86058032,  8.69471315,  8.60428596,  8.44604187,  8.30243267,\n",
       "        8.13316543,  8.05914893,  7.94917624,  7.95489658,  7.86652125,\n",
       "        7.79878126,  7.85717036,  7.7760619 ,  7.64962631,  7.6788994 ,\n",
       "        7.73621502,  7.74704609,  7.69272923,  7.64486667,  7.61636341,\n",
       "        7.60009195,  7.55051867,  7.57458566,  7.60234351,  7.62418882,\n",
       "        7.59579111,  7.58639985,  7.52898125,  7.53527216,  7.54636843,\n",
       "        7.52688896,  7.53528896,  7.5362    ,  7.51973136,  7.51197844,\n",
       "        7.5538229 ,  7.50371075,  7.48909128,  7.48171758,  7.49857541])"
      ]
     },
     "execution_count": 61,
     "metadata": {},
     "output_type": "execute_result"
    }
   ],
   "source": [
    "sdl_util_arr_0/7500"
   ]
  },
  {
   "cell_type": "code",
   "execution_count": 62,
   "metadata": {},
   "outputs": [
    {
     "data": {
      "text/plain": [
       "array([0.        , 0.00405407, 0.00531109, 0.00564402, 0.00604487,\n",
       "       0.00684235, 0.00689568, 0.00832121, 0.01079273, 0.01663674,\n",
       "       0.02560611, 0.06410738, 0.6541011 , 1.01727646, 1.17393636,\n",
       "       1.25912109, 1.29542141, 1.3086267 , 1.33778836, 1.333336  ,\n",
       "       1.3269859 , 1.33477971, 1.34382405, 1.33987921, 1.3293874 ,\n",
       "       1.33687553, 1.31779607, 1.32306204, 1.30573327, 1.30519439,\n",
       "       1.29545798, 1.27778083, 1.28447684, 1.27079029, 1.25870793,\n",
       "       1.25073775, 1.25747263, 1.25044785, 1.25032631, 1.24944482,\n",
       "       1.24445324, 1.24820455, 1.24071853, 1.23417957, 1.23573963,\n",
       "       1.23728872, 1.23411014, 1.23861966, 1.23335067, 1.23150764,\n",
       "       1.23281865, 1.23328522, 1.23430292, 1.23677865, 1.23937702,\n",
       "       1.23278655, 1.23629249, 1.23442382, 1.23611888, 1.23578776])"
      ]
     },
     "execution_count": 62,
     "metadata": {},
     "output_type": "execute_result"
    }
   ],
   "source": [
    "ptwaiting_util_arr_0/7500"
   ]
  },
  {
   "cell_type": "code",
   "execution_count": 63,
   "metadata": {},
   "outputs": [
    {
     "data": {
      "text/plain": [
       "array([0.        , 0.28083917, 0.27468945, 0.26804265, 0.25651579,\n",
       "       0.24554305, 0.23672337, 0.23187263, 0.22711861, 0.22476902,\n",
       "       0.22139916, 0.21928702, 0.21716168, 0.2338459 , 0.27359792,\n",
       "       0.299787  , 0.31563814, 0.32947751, 0.34627687, 0.36099142,\n",
       "       0.36610659, 0.37594431, 0.37980642, 0.38920193, 0.40082737,\n",
       "       0.40983971, 0.41682161, 0.42211935, 0.41979509, 0.42413584,\n",
       "       0.42829424, 0.4230626 , 0.42781706, 0.43689563, 0.43226648,\n",
       "       0.42586145, 0.42222249, 0.42594736, 0.42904738, 0.43104825,\n",
       "       0.43089825, 0.4359464 , 0.43247414, 0.43013846, 0.42780643,\n",
       "       0.42889833, 0.42928403, 0.43394202, 0.43075872, 0.42878463,\n",
       "       0.43077214, 0.43032433, 0.42976355, 0.43089912, 0.43170777,\n",
       "       0.42747135, 0.43196033, 0.43286591, 0.43288265, 0.43110777])"
      ]
     },
     "execution_count": 63,
     "metadata": {},
     "output_type": "execute_result"
    }
   ],
   "source": [
    "sde_util_arr_0/7500"
   ]
  },
  {
   "cell_type": "code",
   "execution_count": 91,
   "metadata": {},
   "outputs": [
    {
     "data": {
      "text/plain": [
       "<matplotlib.legend.Legend at 0x7f775287a820>"
      ]
     },
     "execution_count": 91,
     "metadata": {},
     "output_type": "execute_result"
    },
    {
     "data": {
      "image/png": "[encoded data removed]",
      "text/plain": [
       "<Figure size 800x600 with 1 Axes>"
      ]
     },
     "metadata": {},
     "output_type": "display_data"
    }
   ],
   "source": [
    "fig, ax = plt.subplots(figsize=(8,6))\n",
    "plt.ylabel(\"Social welfare $ per capita\", fontsize= 10)\n",
    "plt.xlabel(\"Step number\", fontsize= 10)\n",
    "ax.tick_params(axis='x', labelsize= 10)\n",
    "ax.tick_params(axis='y', labelsize= 10)\n",
    "plt.tight_layout()\n",
    "# plt.ylim(-20, 20)\n",
    "base_path = \"../output/MFD_pt_60_new/Trinity/A_\"\n",
    "for model_parameter in [0]: \n",
    "    sw_arr_0 = np.load(file=(base_path+str(model_parameter)+\"/swvec.npy\"))\n",
    "    tt_util_arr_0 = np.load(file=(base_path+str(model_parameter)+\"/tt_util_vec.npy\"))\n",
    "\n",
    "    sde_util_arr_0 = np.load(file=(base_path+str(model_parameter)+\"/sde_util_vec.npy\"))\n",
    "    sdl_util_arr_0 = np.load(file=(base_path+str(model_parameter)+\"/sdl_util_vec.npy\"))\n",
    "    userBuy_util_arr_0 = np.load(file=(base_path+str(model_parameter)+\"/userBuy_util_vec.npy\"))\n",
    "    userSell_util_arr_0 = np.load(file=(base_path+str(model_parameter)+\"/userSell_util_vec.npy\"))\n",
    "    ptwaiting_util_arr_0 = np.load(file=(base_path+str(model_parameter)+\"/ptwaiting_util_vec.npy\"))\n",
    "    I_util_arr_0 = np.load(file=(base_path+str(model_parameter)+\"/I_util_vec.npy\"))\n",
    "    tt_util_arr_0 = np.load(file=(base_path+str(model_parameter)+\"/tt_util_vec.npy\"))\n",
    "    fuelcost_util_arr_0 = np.load(file=(base_path+str(model_parameter)+\"/fuelcost_util_vec.npy\"))\n",
    "\n",
    "    label_text = \"A=\"+ str(model_parameter)\n",
    "    plt.plot(sw_arr_0[-1]/7500, label = \"sw\")\n",
    "    plt.plot(tt_util_arr_0/7500, label = \"tt_util\")\n",
    "    plt.plot(fuelcost_util_arr_0/7500, label = \"fuelcost_util\")\n",
    "    plt.plot(sde_util_arr_0/7500, label = \"sde_util\")\n",
    "    plt.plot(sdl_util_arr_0/7500, label = \"sdl_util\")\n",
    "    plt.plot(userBuy_util_arr_0/7500, label = \"userBuy_util\")\n",
    "    plt.plot(userSell_util_arr_0/7500, label = \"userSell_util\")\n",
    "    plt.plot(I_util_arr_0/7500, label = \"I_util\")\n",
    "\n",
    "    plt.plot(ptwaiting_util_arr_0/7500, label = \"ptwaiting_util\")\n",
    "\n",
    "ax.legend()\n",
    "# fig.savefig(plot_path+\"/sw_com_\"+str(model_parameter)+\".jpeg\", dpi=fig.dpi)"
   ]
  },
  {
   "cell_type": "code",
   "execution_count": 92,
   "metadata": {},
   "outputs": [
    {
     "data": {
      "text/plain": [
       "array([6.26086957, 6.25333333])"
      ]
     },
     "execution_count": 92,
     "metadata": {},
     "output_type": "execute_result"
    }
   ],
   "source": [
    "fuelcost_util_arr_0/7500"
   ]
  },
  {
   "cell_type": "code",
   "execution_count": 71,
   "metadata": {},
   "outputs": [
    {
     "data": {
      "text/plain": [
       "array([275.0249241, 275.0249241, 275.0249241, 275.0249241, 275.0249241,\n",
       "       275.0249241, 275.0249241, 275.0249241, 275.0249241, 275.0249241,\n",
       "       275.0249241, 275.0249241, 275.0249241, 275.0249241, 275.0249241,\n",
       "       275.0249241, 275.0249241, 275.0249241, 275.0249241, 275.0249241,\n",
       "       275.0249241, 275.0249241, 275.0249241, 275.0249241, 275.0249241,\n",
       "       275.0249241, 275.0249241, 275.0249241, 275.0249241, 275.0249241,\n",
       "       275.0249241, 275.0249241, 275.0249241, 275.0249241, 275.0249241,\n",
       "       275.0249241, 275.0249241, 275.0249241, 275.0249241, 275.0249241,\n",
       "       275.0249241, 275.0249241, 275.0249241, 275.0249241, 275.0249241,\n",
       "       275.0249241, 275.0249241, 275.0249241, 275.0249241, 275.0249241,\n",
       "       275.0249241, 275.0249241, 275.0249241, 275.0249241, 275.0249241,\n",
       "       275.0249241, 275.0249241, 275.0249241, 275.0249241, 275.0249241])"
      ]
     },
     "execution_count": 71,
     "metadata": {},
     "output_type": "execute_result"
    }
   ],
   "source": [
    "I_util_arr_0/7500"
   ]
  },
  {
   "cell_type": "code",
   "execution_count": 72,
   "metadata": {},
   "outputs": [
    {
     "data": {
      "text/plain": [
       "array([23.34197698, 20.45706234, 21.4375721 , 22.51117062, 23.93673395,\n",
       "       25.47764988, 27.53407788, 29.86893147, 32.58140821, 36.33145728,\n",
       "       40.53756898, 44.46969185, 36.72177602, 32.14169494, 30.46586944,\n",
       "       29.714996  , 29.29143316, 29.09079936, 28.72307927, 28.47952036,\n",
       "       28.35887479, 28.20574314, 28.2044804 , 28.1060116 , 27.96173455,\n",
       "       27.86318147, 27.78205332, 27.76750458, 27.68402206, 27.57878495,\n",
       "       27.65675861, 27.72862894, 27.64426026, 27.4584964 , 27.57640057,\n",
       "       27.64639152, 27.66480007, 27.59717924, 27.54229742, 27.50212563,\n",
       "       27.50808096, 27.54478345, 27.58582771, 27.57812751, 27.67979228,\n",
       "       27.61574935, 27.60657571, 27.6420605 , 27.52925746, 27.53215838,\n",
       "       27.53920025, 27.53961872, 27.64864797, 27.58456053, 27.62604203,\n",
       "       27.63319727, 27.60158698, 27.52934708, 27.52280732, 27.49419626])"
      ]
     },
     "execution_count": 72,
     "metadata": {},
     "output_type": "execute_result"
    }
   ],
   "source": [
    "tt_util_arr_0/7500"
   ]
  },
  {
   "cell_type": "code",
   "execution_count": 73,
   "metadata": {},
   "outputs": [
    {
     "data": {
      "text/plain": [
       "array([13.19023781,  7.25127964,  7.65081669,  8.17265029,  8.93082635,\n",
       "        9.84858818, 11.27955595, 13.00311832, 15.12114208, 18.14917649,\n",
       "       21.62127724, 24.72246337, 16.85418471, 12.38703593, 10.84538411,\n",
       "       10.1362906 ,  9.70115801,  9.44901629,  9.10724318,  8.84689039,\n",
       "        8.69661128,  8.5292586 ,  8.4949982 ,  8.36829134,  8.21668205,\n",
       "        8.12430007,  8.0229926 ,  7.98613578,  7.89376853,  7.78447626,\n",
       "        7.80887837,  7.83719232,  7.74973412,  7.59210181,  7.66012088,\n",
       "        7.70343052,  7.70522722,  7.62409736,  7.57233148,  7.53650111,\n",
       "        7.53203424,  7.54729836,  7.5632269 ,  7.54506793,  7.61217363,\n",
       "        7.56342202,  7.55208698,  7.56816936,  7.48993579,  7.48844717,\n",
       "        7.48979475,  7.46466413,  7.53609915,  7.48736958,  7.50497548,\n",
       "        7.51082258,  7.48467924,  7.43460583,  7.43336828,  7.41148069])"
      ]
     },
     "execution_count": 73,
     "metadata": {},
     "output_type": "execute_result"
    }
   ],
   "source": [
    "sdl_util_arr_0/7500"
   ]
  },
  {
   "cell_type": "code",
   "execution_count": 74,
   "metadata": {},
   "outputs": [
    {
     "data": {
      "text/plain": [
       "array([0.        , 0.0037373 , 0.00521084, 0.00564402, 0.00604487,\n",
       "       0.00684235, 0.00689568, 0.00832121, 0.01055078, 0.01653093,\n",
       "       0.02560611, 0.06403799, 0.65939782, 1.02029405, 1.17393636,\n",
       "       1.25514728, 1.29714633, 1.3086267 , 1.33778836, 1.33325088,\n",
       "       1.33590806, 1.34052816, 1.34165087, 1.33378759, 1.32712682,\n",
       "       1.33025418, 1.31545008, 1.3128841 , 1.30142918, 1.306563  ,\n",
       "       1.2821371 , 1.27244537, 1.27132449, 1.26824756, 1.25560206,\n",
       "       1.24739019, 1.24283038, 1.24461854, 1.24885289, 1.24522144,\n",
       "       1.24265154, 1.23962137, 1.23145151, 1.22862503, 1.21913221,\n",
       "       1.22565978, 1.22619444, 1.22459803, 1.23248068, 1.23213857,\n",
       "       1.23252612, 1.22669882, 1.21967594, 1.22331188, 1.22545148,\n",
       "       1.2276499 , 1.22872743, 1.23292131, 1.23292131, 1.23231867])"
      ]
     },
     "execution_count": 74,
     "metadata": {},
     "output_type": "execute_result"
    }
   ],
   "source": [
    "ptwaiting_util_arr_0/7500"
   ]
  },
  {
   "cell_type": "code",
   "execution_count": 75,
   "metadata": {},
   "outputs": [
    {
     "data": {
      "text/plain": [
       "array([0.        , 0.28061877, 0.2743678 , 0.26804265, 0.25641826,\n",
       "       0.24554305, 0.23670298, 0.2318723 , 0.22703911, 0.22472038,\n",
       "       0.22135807, 0.21928076, 0.21718737, 0.23436256, 0.27391531,\n",
       "       0.2990594 , 0.31643969, 0.32947751, 0.34653277, 0.36030614,\n",
       "       0.37424798, 0.38577066, 0.38650897, 0.39555418, 0.40617376,\n",
       "       0.41016945, 0.41942505, 0.41920789, 0.4250118 , 0.43027467,\n",
       "       0.42814295, 0.42383881, 0.42972282, 0.44109153, 0.43341803,\n",
       "       0.42874808, 0.42653181, 0.42992134, 0.43520143, 0.43716933,\n",
       "       0.4374832 , 0.43563045, 0.43354996, 0.43417234, 0.42688423,\n",
       "       0.43169838, 0.43163886, 0.42883199, 0.43575816, 0.43474429,\n",
       "       0.4344551 , 0.43596645, 0.42923673, 0.43374373, 0.43220705,\n",
       "       0.43203523, 0.43410723, 0.43899223, 0.43885248, 0.44030881])"
      ]
     },
     "execution_count": 75,
     "metadata": {},
     "output_type": "execute_result"
    }
   ],
   "source": [
    "sde_util_arr_0/7500"
   ]
  },
  {
   "cell_type": "code",
   "execution_count": null,
   "metadata": {},
   "outputs": [],
   "source": []
  },
  {
   "cell_type": "code",
   "execution_count": 20,
   "metadata": {},
   "outputs": [
    {
     "data": {
      "text/plain": [
       "array([0., 0., 0., 0., 0., 0., 0., 0., 0., 0., 0., 0., 0., 0., 0., 0., 0.,\n",
       "       0., 0., 0., 0., 0., 0., 0., 0., 0., 0., 0., 0., 0., 0., 0., 0., 0.,\n",
       "       0., 0., 0., 0., 0., 0., 0., 0., 0., 0., 0., 0., 0., 0., 0., 0., 0.,\n",
       "       0., 0., 0., 0., 0., 0., 0., 0., 0.])"
      ]
     },
     "execution_count": 20,
     "metadata": {},
     "output_type": "execute_result"
    }
   ],
   "source": [
    "userBuy_util_vec"
   ]
  },
  {
   "cell_type": "code",
   "execution_count": 19,
   "metadata": {},
   "outputs": [
    {
     "data": {
      "text/plain": [
       "array([29052. , 27599.4, 26146.8, 24694.2, 23241.6, 21789. , 20336.4,\n",
       "       18883.8, 17431.2, 15978.6, 14526. , 13073.4, 11620.8, 10168.2,\n",
       "        8715.6,  7263. ,  5810.4,  4357.8,  2905.2,  1452.6,     0. ,\n",
       "           0. ,     0. ,     0. ,     0. ,     0. ,     0. ,     0. ,\n",
       "           0. ,     0. ,     0. ,     0. ,     0. ,     0. ,     0. ,\n",
       "           0. ,     0. ,     0. ,     0. ,     0. ,     0. ,     0. ,\n",
       "           0. ,     0. ,     0. ,     0. ,     0. ,     0. ,     0. ,\n",
       "           0. ,     0. ,     0. ,     0. ,     0. ,     0. ,     0. ,\n",
       "           0. ,     0. ,     0. ,     0. ])"
      ]
     },
     "execution_count": 19,
     "metadata": {},
     "output_type": "execute_result"
    }
   ],
   "source": [
    "userSell_util_vec"
   ]
  },
  {
   "cell_type": "code",
   "execution_count": 17,
   "metadata": {},
   "outputs": [
    {
     "data": {
      "text/plain": [
       "array([ -9.01962661,  16.65911921,  16.32645988,  15.95493041,\n",
       "        15.51859853,  15.0899375 ,  14.40177348,  13.47850873,\n",
       "        12.70331866,  11.55988493,  10.0952481 ,   8.35718804,\n",
       "         5.94347648,   3.43684466,   0.04363271,  -4.5305417 ,\n",
       "       -11.3538859 , -19.25913475, -23.5231924 , -14.64014602,\n",
       "        -6.79018451,  -6.21684944,  -3.68422119,  -2.17671528,\n",
       "        -1.59475653,  -1.40424914,  -1.0060297 ,  -0.59202562,\n",
       "        -0.44432143,  -1.7103675 ,  -1.07429022,  -0.63897058,\n",
       "        -0.24320494,  -0.12095673,   0.05381097,  -0.11547776,\n",
       "         0.05861146,   0.36686127,   0.29158361,   0.23086825,\n",
       "         0.26027348,   0.30692089,   0.25401251,   0.18868303,\n",
       "         0.15767458,   0.19916487,   0.46410125,   0.3791021 ,\n",
       "         0.43273596,   0.4833938 ,   0.45184969,   0.49370499,\n",
       "         0.47283656,   0.46061024,   0.42488391,   0.44175379,\n",
       "         0.52773305,   0.50962318,   0.52492781,   0.5100932 ])"
      ]
     },
     "execution_count": 17,
     "metadata": {},
     "output_type": "execute_result"
    }
   ],
   "source": [
    "swvec/7500"
   ]
  },
  {
   "cell_type": "code",
   "execution_count": 15,
   "metadata": {},
   "outputs": [
    {
     "data": {
      "text/plain": [
       "array([], dtype=float64)"
      ]
     },
     "execution_count": 15,
     "metadata": {},
     "output_type": "execute_result"
    }
   ],
   "source": [
    "userSell_util_vec"
   ]
  },
  {
   "cell_type": "code",
   "execution_count": 16,
   "metadata": {},
   "outputs": [
    {
     "data": {
      "text/plain": [
       "array([], dtype=float64)"
      ]
     },
     "execution_count": 16,
     "metadata": {},
     "output_type": "execute_result"
    }
   ],
   "source": [
    "userSell_util_vec"
   ]
  },
  {
   "cell_type": "code",
   "execution_count": 9,
   "metadata": {},
   "outputs": [
    {
     "ename": "FileNotFoundError",
     "evalue": "[Errno 2] No such file or directory: '../output/MFD_pt_60_new/Trinity/swvec.npy'",
     "output_type": "error",
     "traceback": [
      "\u001b[0;31m---------------------------------------------------------------------------\u001b[0m",
      "\u001b[0;31mFileNotFoundError\u001b[0m                         Traceback (most recent call last)",
      "Cell \u001b[0;32mIn[9], line 2\u001b[0m\n\u001b[1;32m      1\u001b[0m output_dir \u001b[38;5;241m=\u001b[39m \u001b[38;5;124m\"\u001b[39m\u001b[38;5;124m../output/MFD_pt_60_new/Trinity/\u001b[39m\u001b[38;5;124m\"\u001b[39m\n\u001b[0;32m----> 2\u001b[0m swvec \u001b[38;5;241m=\u001b[39m \u001b[43mnp\u001b[49m\u001b[38;5;241;43m.\u001b[39;49m\u001b[43mload\u001b[49m\u001b[43m(\u001b[49m\u001b[43moutput_dir\u001b[49m\u001b[38;5;241;43m+\u001b[39;49m\u001b[38;5;124;43m\"\u001b[39;49m\u001b[38;5;124;43mswvec.npy\u001b[39;49m\u001b[38;5;124;43m\"\u001b[39;49m\u001b[43m)\u001b[49m\n\u001b[1;32m      3\u001b[0m \u001b[38;5;66;03m# ptsharevec = np.load(output_dir+\"ptsharevec.npy\")\u001b[39;00m\n\u001b[1;32m      4\u001b[0m pricevec \u001b[38;5;241m=\u001b[39m np\u001b[38;5;241m.\u001b[39mload(output_dir\u001b[38;5;241m+\u001b[39m\u001b[38;5;124m\"\u001b[39m\u001b[38;5;124mpricevec.npy\u001b[39m\u001b[38;5;124m\"\u001b[39m)\n",
      "File \u001b[0;32m~/py38/lib/python3.8/site-packages/numpy/lib/npyio.py:405\u001b[0m, in \u001b[0;36mload\u001b[0;34m(file, mmap_mode, allow_pickle, fix_imports, encoding, max_header_size)\u001b[0m\n\u001b[1;32m    403\u001b[0m     own_fid \u001b[38;5;241m=\u001b[39m \u001b[38;5;28;01mFalse\u001b[39;00m\n\u001b[1;32m    404\u001b[0m \u001b[38;5;28;01melse\u001b[39;00m:\n\u001b[0;32m--> 405\u001b[0m     fid \u001b[38;5;241m=\u001b[39m stack\u001b[38;5;241m.\u001b[39menter_context(\u001b[38;5;28;43mopen\u001b[39;49m\u001b[43m(\u001b[49m\u001b[43mos_fspath\u001b[49m\u001b[43m(\u001b[49m\u001b[43mfile\u001b[49m\u001b[43m)\u001b[49m\u001b[43m,\u001b[49m\u001b[43m \u001b[49m\u001b[38;5;124;43m\"\u001b[39;49m\u001b[38;5;124;43mrb\u001b[39;49m\u001b[38;5;124;43m\"\u001b[39;49m\u001b[43m)\u001b[49m)\n\u001b[1;32m    406\u001b[0m     own_fid \u001b[38;5;241m=\u001b[39m \u001b[38;5;28;01mTrue\u001b[39;00m\n\u001b[1;32m    408\u001b[0m \u001b[38;5;66;03m# Code to distinguish from NumPy binary files and pickles.\u001b[39;00m\n",
      "\u001b[0;31mFileNotFoundError\u001b[0m: [Errno 2] No such file or directory: '../output/MFD_pt_60_new/Trinity/swvec.npy'"
     ]
    }
   ],
   "source": [
    "output_dir = \"../output/MFD_pt_60_new/Trinity/\"\n",
    "swvec = np.load(output_dir+\"swvec.npy\")\n",
    "# ptsharevec = np.load(output_dir+\"ptsharevec.npy\")\n",
    "pricevec = np.load(output_dir+\"pricevec.npy\")\n",
    "flowdf =  pd.read_csv(output_dir+\"flowdf.csv\")\n",
    "a = flowdf.iloc[-7500*5:]\n",
    "b = a[a[\"departure\"]!=-1]\n",
    "print(\" mean AITT\", np.mean(flowdf.iloc[:, 4]))\n",
    "print(\" last 5 day mean AITT\", np.mean(flowdf.iloc[-7500*5:, 4]))\n",
    "print(\" last 5 day mean car-only AITT\", np.mean(np.mean(b[\"tt\"])))\n",
    "print(\" first day mean AITT\", np.mean(flowdf.iloc[:7500, 4]))\n",
    "print(\" last day mean AITT\", np.mean(flowdf.iloc[-7500:, 4]))\n",
    "print(\" last 5 day sw\", np.mean( swvec[-5:]/7500))\n",
    "# print(\" last 5 day PT user number\", np.mean(ptsharevec[-5:]))\n",
    "print(\" last 5 day price\", np.round(np.mean(pricevec[-5:]),2 ))\n"
   ]
  },
  {
   "cell_type": "code",
   "execution_count": null,
   "metadata": {},
   "outputs": [
    {
     "data": {
      "text/plain": [
       "array([21.82352712, 21.48800971, 21.41660723, 21.32016845, 21.18108435,\n",
       "       20.99779386, 20.81832762, 20.6229734 , 20.34093368, 20.04512131,\n",
       "       19.74236948, 19.39115168, 19.04273815, 18.64714125, 18.1235093 ,\n",
       "       17.55905471, 16.82718813, 15.94607997, 15.11577402, 14.69719493,\n",
       "       14.15873429, 13.63751067, 13.18599106, 12.74504104, 12.19093857,\n",
       "       11.52584271, 11.03274343, 10.51765999,  9.84798786,  9.36264419])"
      ]
     },
     "execution_count": 7,
     "metadata": {},
     "output_type": "execute_result"
    }
   ],
   "source": [
    "swvec[:]/7500"
   ]
  },
  {
   "cell_type": "code",
   "execution_count": null,
   "metadata": {},
   "outputs": [
    {
     "name": "stdout",
     "output_type": "stream",
     "text": [
      " mean AITT 45.645789185794364\n",
      " last 5 day mean AITT 57.68552798091983\n",
      " last 5 day mean car-only AITT 57.66497980318788\n",
      " first day mean AITT 35.944642168360026\n",
      " last day mean AITT 59.65171063151159\n",
      " last 5 day sw 10.457375637078325\n",
      " last 5 day PT user number 66.0\n",
      " last 5 day price 0.1\n"
     ]
    }
   ],
   "source": [
    "output_dir = \"../output/MFD_pt_60_30_days/Trinity/A_2_AR_orig/\"\n",
    "swvec = np.load(output_dir+\"swvec.npy\")\n",
    "ptsharevec = np.load(output_dir+\"ptsharevec.npy\")\n",
    "pricevec = np.load(output_dir+\"pricevec.npy\")\n",
    "flowdf =  pd.read_csv(output_dir+\"flowdf.csv\")\n",
    "a = flowdf.iloc[-7500*5:]\n",
    "b = a[a[\"departure\"]!=-1]\n",
    "print(\" mean AITT\", np.mean(flowdf.iloc[:, 4]))\n",
    "print(\" last 5 day mean AITT\", np.mean(flowdf.iloc[-7500*5:, 4]))\n",
    "print(\" last 5 day mean car-only AITT\", np.mean(np.mean(b[\"tt\"])))\n",
    "print(\" first day mean AITT\", np.mean(flowdf.iloc[:7500, 4]))\n",
    "print(\" last day mean AITT\", np.mean(flowdf.iloc[-7500:, 4]))\n",
    "print(\" last 5 day sw\", np.mean( swvec[-5:]/7500))\n",
    "print(\" last 5 day PT user number\", np.mean(ptsharevec[-5:]))\n",
    "print(\" last 5 day price\", np.round(np.mean(pricevec[-5:]),2 ))\n"
   ]
  },
  {
   "cell_type": "code",
   "execution_count": null,
   "metadata": {},
   "outputs": [
    {
     "name": "stdout",
     "output_type": "stream",
     "text": [
      " mean AITT 55.27439313303747\n",
      " last 5 day mean AITT 57.7947500392894\n",
      " last 5 day mean car-only AITT 57.698261146552895\n",
      " first day mean AITT 42.28319218571388\n",
      " last day mean AITT 57.892845628552685\n",
      " last 5 day sw 6.14805520022424\n",
      " last 5 day PT user number 314.4\n",
      " last 5 day price -0.0\n"
     ]
    }
   ],
   "source": [
    "output_dir = \"../output/MFD_vot_change/Trinity/A_0_AR_orig/\"\n",
    "swvec = np.load(output_dir+\"swvec.npy\")\n",
    "ptsharevec = np.load(output_dir+\"ptsharevec.npy\")\n",
    "pricevec = np.load(output_dir+\"pricevec.npy\")\n",
    "flowdf =  pd.read_csv(output_dir+\"flowdf.csv\")\n",
    "a = flowdf.iloc[-7500*5:]\n",
    "b = a[a[\"departure\"]!=-1]\n",
    "print(\" mean AITT\", np.mean(flowdf.iloc[:, 4]))\n",
    "print(\" last 5 day mean AITT\", np.mean(flowdf.iloc[-7500*5:, 4]))\n",
    "print(\" last 5 day mean car-only AITT\", np.mean(np.mean(b[\"tt\"])))\n",
    "print(\" first day mean AITT\", np.mean(flowdf.iloc[:7500, 4]))\n",
    "print(\" last day mean AITT\", np.mean(flowdf.iloc[-7500:, 4]))\n",
    "print(\" last 5 day sw\", np.mean( swvec[-5:]/7500))\n",
    "print(\" last 5 day PT user number\", np.mean(ptsharevec[-5:]))\n",
    "print(\" last 5 day price\", np.round(np.mean(pricevec[-5:]),2 ))\n"
   ]
  },
  {
   "cell_type": "code",
   "execution_count": null,
   "metadata": {},
   "outputs": [
    {
     "name": "stdout",
     "output_type": "stream",
     "text": [
      " mean AITT 52.38746273600696\n",
      " last 5 day mean AITT 58.09081280930467\n",
      " last 5 day mean car-only AITT 57.98467221249612\n",
      " first day mean AITT 35.944642168360026\n",
      " last day mean AITT 58.076299044017574\n",
      " last 5 day sw 9.312664525587405\n",
      " last 5 day PT user number 395.0\n",
      " last 5 day price 0.1\n"
     ]
    }
   ],
   "source": [
    "output_dir = \"../output/MFD_pt_60/Trinity/A_2_AR_orig/\"\n",
    "swvec = np.load(output_dir+\"swvec.npy\")\n",
    "ptsharevec = np.load(output_dir+\"ptsharevec.npy\")\n",
    "pricevec = np.load(output_dir+\"pricevec.npy\")\n",
    "flowdf =  pd.read_csv(output_dir+\"flowdf.csv\")\n",
    "a = flowdf.iloc[-7500*5:]\n",
    "b = a[a[\"departure\"]!=-1]\n",
    "print(\" mean AITT\", np.mean(flowdf.iloc[:, 4]))\n",
    "print(\" last 5 day mean AITT\", np.mean(flowdf.iloc[-7500*5:, 4]))\n",
    "print(\" last 5 day mean car-only AITT\", np.mean(np.mean(b[\"tt\"])))\n",
    "print(\" first day mean AITT\", np.mean(flowdf.iloc[:7500, 4]))\n",
    "print(\" last day mean AITT\", np.mean(flowdf.iloc[-7500:, 4]))\n",
    "print(\" last 5 day sw\", np.mean( swvec[-5:]/7500))\n",
    "print(\" last 5 day PT user number\", np.mean(ptsharevec[-5:]))\n",
    "print(\" last 5 day price\", np.round(np.mean(pricevec[-5:]),2 ))\n"
   ]
  },
  {
   "cell_type": "code",
   "execution_count": null,
   "metadata": {},
   "outputs": [
    {
     "data": {
      "text/plain": [
       "array([11.43860184, 10.98620067, 10.41465716, 10.08173561,  9.71418249])"
      ]
     },
     "execution_count": 15,
     "metadata": {},
     "output_type": "execute_result"
    }
   ],
   "source": [
    "swvec[25:30]/7500"
   ]
  },
  {
   "cell_type": "code",
   "execution_count": null,
   "metadata": {},
   "outputs": [
    {
     "data": {
      "text/plain": [
       "array([21.37603766, 21.03307447, 20.89234202, 20.76931247, 20.61630135,\n",
       "       20.45249343, 20.27625705, 20.04692826, 19.81535594, 19.51055687,\n",
       "       19.19769777, 18.851273  , 18.422187  , 18.02384995, 17.52735461,\n",
       "       16.97692484, 16.30675773, 15.48729246, 14.51169275, 14.09422378,\n",
       "       13.57420997, 13.0619635 , 12.61065925, 12.24753571, 11.80209736,\n",
       "       11.43860184, 10.98620067, 10.41465716, 10.08173561,  9.71418249,\n",
       "        9.24949711,  8.86852055,  8.63695349,  8.32445747,  8.40854248,\n",
       "        8.45193248,  8.88192498,  9.15800014,  9.21001368,  9.34456831,\n",
       "        9.34972875,  9.41698271,  9.47830844,  9.59875776,  9.6150202 ,\n",
       "        9.52114029,  9.59964948,  9.63061419,  9.70337517,  9.76194208,\n",
       "        9.71540212,  9.70994765,  9.75952329,  9.72492338,  9.71338834,\n",
       "        9.71026978,  9.70503629,  9.69658821,  9.68123128,  9.66009237])"
      ]
     },
     "execution_count": 16,
     "metadata": {},
     "output_type": "execute_result"
    }
   ],
   "source": [
    "swvec/7500"
   ]
  },
  {
   "cell_type": "code",
   "execution_count": null,
   "metadata": {},
   "outputs": [
    {
     "data": {
      "text/plain": [
       "array([113, 111, 107, 100,  96,  90,  80,  81,  74,  72,  62,  57,  54,\n",
       "        52,  44,  43,  40,  36,  33,  34,  34,  34,  35,  38,  40,  43,\n",
       "        44,  46,  51,  54,  59,  67,  77,  88, 111, 142, 183, 214, 229,\n",
       "       247, 254, 268, 284, 297, 306, 311, 324, 328, 332, 338, 337, 340,\n",
       "       342, 341, 342, 342, 343, 343, 342, 342])"
      ]
     },
     "execution_count": 12,
     "metadata": {},
     "output_type": "execute_result"
    }
   ],
   "source": [
    "ptsharevec"
   ]
  },
  {
   "cell_type": "code",
   "execution_count": null,
   "metadata": {},
   "outputs": [
    {
     "data": {
      "text/plain": [
       "array([12.64351842, 12.33580548, 12.07872228, 11.80405204, 11.54161822,\n",
       "       11.30665693, 11.03287096, 10.75340609, 10.49468779, 10.19324764,\n",
       "        9.98926382,  9.669612  ,  9.39356961,  9.03949902,  8.81636209,\n",
       "        8.59573762,  8.23331897,  7.86637373,  7.54031098,  7.3103336 ,\n",
       "        6.83043433,  6.6104431 ,  6.28282377,  5.94915157,  5.62560629,\n",
       "        5.40185431,  5.23070023,  5.08308663,  5.09142011,  5.19635592,\n",
       "        5.52063597,  5.54092555,  5.71398103,  5.85688475,  5.90885414,\n",
       "        5.98141156,  6.03916082,  6.05693721,  6.11485774,  6.12218232,\n",
       "        6.11491857,  6.05391071,  6.11838273,  6.15832248,  6.17141219,\n",
       "        6.1645127 ,  6.15370828,  6.14986602,  6.14633102,  6.16000192,\n",
       "        6.15630943,  6.16739045,  6.16967455,  6.15787396,  6.18976923,\n",
       "        6.1858233 ,  6.16405292,  6.1422014 ,  6.1331495 ,  6.11504888])"
      ]
     },
     "execution_count": 10,
     "metadata": {},
     "output_type": "execute_result"
    }
   ],
   "source": [
    "swvec/7500"
   ]
  },
  {
   "cell_type": "code",
   "execution_count": null,
   "metadata": {},
   "outputs": [
    {
     "name": "stdout",
     "output_type": "stream",
     "text": [
      " mean AITT 56.46387725567868\n",
      " last 5 day mean AITT 53.133173047827434\n",
      " last 5 day mean car-only AITT 54.90738879509472\n",
      " first day mean AITT 45.11400042188983\n",
      " last day mean AITT 53.00084777552175\n",
      " last 5 day sw 262.4383875406183\n",
      " last 5 day PT user number 1136.6\n",
      " last 5 day price 1.0\n"
     ]
    }
   ],
   "source": [
    "output_dir = \"../output/MFD_pt_43/NT/\"\n",
    "swvec = np.load(output_dir+\"swvec.npy\")\n",
    "ptsharevec = np.load(output_dir+\"ptsharevec.npy\")\n",
    "pricevec = np.load(output_dir+\"pricevec.npy\")\n",
    "flowdf =  pd.read_csv(output_dir+\"flowdf.csv\")\n",
    "a = flowdf.iloc[-7500*5:]\n",
    "b = a[a[\"departure\"]!=-1]\n",
    "print(\" mean AITT\", np.mean(flowdf.iloc[:, 4]))\n",
    "print(\" last 5 day mean AITT\", np.mean(flowdf.iloc[-7500*5:, 4]))\n",
    "print(\" last 5 day mean car-only AITT\", np.mean(np.mean(b[\"tt\"])))\n",
    "print(\" first day mean AITT\", np.mean(flowdf.iloc[:7500, 4]))\n",
    "print(\" last day mean AITT\", np.mean(flowdf.iloc[-7500:, 4]))\n",
    "print(\" last 5 day sw\", np.mean(swvec[-5:]/7500))\n",
    "print(\" last 5 day PT user number\", np.mean(ptsharevec[-5:]))\n",
    "print(\" last 5 day price\", np.round(np.mean(pricevec[-5:]),2 ))\n"
   ]
  },
  {
   "cell_type": "code",
   "execution_count": null,
   "metadata": {},
   "outputs": [
    {
     "name": "stdout",
     "output_type": "stream",
     "text": [
      " mean AITT 35.82535697297345\n",
      " last 5 day mean AITT 35.840357298090346\n",
      " last 5 day mean car-only AITT 32.20388410990943\n",
      " first day mean AITT 35.75602618863347\n",
      " last day mean AITT 35.84209708810843\n",
      " last 5 day sw 21.68753290205192\n",
      " last 5 day PT user number 981.2\n",
      " last 5 day price 1.55\n"
     ]
    }
   ],
   "source": [
    "output_dir = \"../output/MFD_pt_43/Trinity/A_3_22_AR_orig/\"\n",
    "swvec = np.load(output_dir+\"swvec.npy\")\n",
    "ptsharevec = np.load(output_dir+\"ptsharevec.npy\")\n",
    "pricevec = np.load(output_dir+\"pricevec.npy\")\n",
    "flowdf =  pd.read_csv(output_dir+\"flowdf.csv\")\n",
    "a = flowdf.iloc[-7500*5:]\n",
    "b = a[a[\"departure\"]!=-1]\n",
    "print(\" mean AITT\", np.mean(flowdf.iloc[:, 4]))\n",
    "print(\" last 5 day mean AITT\", np.mean(flowdf.iloc[-7500*5:, 4]))\n",
    "print(\" last 5 day mean car-only AITT\", np.mean(np.mean(b[\"tt\"])))\n",
    "print(\" first day mean AITT\", np.mean(flowdf.iloc[:7500, 4]))\n",
    "print(\" last day mean AITT\", np.mean(flowdf.iloc[-7500:, 4]))\n",
    "print(\" last 5 day sw\", np.mean(swvec[-5:]/7500))\n",
    "print(\" last 5 day PT user number\", np.mean(ptsharevec[-5:]))\n",
    "print(\" last 5 day price\", np.round(np.mean(pricevec[-5:]),2 ))\n"
   ]
  },
  {
   "cell_type": "code",
   "execution_count": null,
   "metadata": {},
   "outputs": [
    {
     "ename": "FileNotFoundError",
     "evalue": "[Errno 2] No such file or directory: '../output/MFD/Trinity/A_1_AR_orig/swvec.npy'",
     "output_type": "error",
     "traceback": [
      "\u001b[0;31m---------------------------------------------------------------------------\u001b[0m",
      "\u001b[0;31mFileNotFoundError\u001b[0m                         Traceback (most recent call last)",
      "Cell \u001b[0;32mIn[13], line 2\u001b[0m\n\u001b[1;32m      1\u001b[0m output_dir \u001b[38;5;241m=\u001b[39m \u001b[38;5;124m\"\u001b[39m\u001b[38;5;124m../output/MFD/Trinity/A_1_AR_orig/\u001b[39m\u001b[38;5;124m\"\u001b[39m\n\u001b[0;32m----> 2\u001b[0m swvec \u001b[38;5;241m=\u001b[39m \u001b[43mnp\u001b[49m\u001b[38;5;241;43m.\u001b[39;49m\u001b[43mload\u001b[49m\u001b[43m(\u001b[49m\u001b[43moutput_dir\u001b[49m\u001b[38;5;241;43m+\u001b[39;49m\u001b[38;5;124;43m\"\u001b[39;49m\u001b[38;5;124;43mswvec.npy\u001b[39;49m\u001b[38;5;124;43m\"\u001b[39;49m\u001b[43m)\u001b[49m\n\u001b[1;32m      3\u001b[0m ptsharevec \u001b[38;5;241m=\u001b[39m np\u001b[38;5;241m.\u001b[39mload(output_dir\u001b[38;5;241m+\u001b[39m\u001b[38;5;124m\"\u001b[39m\u001b[38;5;124mptsharevec.npy\u001b[39m\u001b[38;5;124m\"\u001b[39m)\n\u001b[1;32m      4\u001b[0m pricevec \u001b[38;5;241m=\u001b[39m np\u001b[38;5;241m.\u001b[39mload(output_dir\u001b[38;5;241m+\u001b[39m\u001b[38;5;124m\"\u001b[39m\u001b[38;5;124mpricevec.npy\u001b[39m\u001b[38;5;124m\"\u001b[39m)\n",
      "File \u001b[0;32m~/py38/lib/python3.8/site-packages/numpy/lib/npyio.py:405\u001b[0m, in \u001b[0;36mload\u001b[0;34m(file, mmap_mode, allow_pickle, fix_imports, encoding, max_header_size)\u001b[0m\n\u001b[1;32m    403\u001b[0m     own_fid \u001b[38;5;241m=\u001b[39m \u001b[38;5;28;01mFalse\u001b[39;00m\n\u001b[1;32m    404\u001b[0m \u001b[38;5;28;01melse\u001b[39;00m:\n\u001b[0;32m--> 405\u001b[0m     fid \u001b[38;5;241m=\u001b[39m stack\u001b[38;5;241m.\u001b[39menter_context(\u001b[38;5;28;43mopen\u001b[39;49m\u001b[43m(\u001b[49m\u001b[43mos_fspath\u001b[49m\u001b[43m(\u001b[49m\u001b[43mfile\u001b[49m\u001b[43m)\u001b[49m\u001b[43m,\u001b[49m\u001b[43m \u001b[49m\u001b[38;5;124;43m\"\u001b[39;49m\u001b[38;5;124;43mrb\u001b[39;49m\u001b[38;5;124;43m\"\u001b[39;49m\u001b[43m)\u001b[49m)\n\u001b[1;32m    406\u001b[0m     own_fid \u001b[38;5;241m=\u001b[39m \u001b[38;5;28;01mTrue\u001b[39;00m\n\u001b[1;32m    408\u001b[0m \u001b[38;5;66;03m# Code to distinguish from NumPy binary files and pickles.\u001b[39;00m\n",
      "\u001b[0;31mFileNotFoundError\u001b[0m: [Errno 2] No such file or directory: '../output/MFD/Trinity/A_1_AR_orig/swvec.npy'"
     ]
    }
   ],
   "source": [
    "output_dir = \"../output/MFD/Trinity/A_1_AR_orig/\"\n",
    "swvec = np.load(output_dir+\"swvec.npy\")\n",
    "ptsharevec = np.load(output_dir+\"ptsharevec.npy\")\n",
    "pricevec = np.load(output_dir+\"pricevec.npy\")\n",
    "flowdf =  pd.read_csv(output_dir+\"flowdf.csv\")\n",
    "a = flowdf.iloc[-7500*5:]\n",
    "b = a[a[\"departure\"]!=-1]\n",
    "print(\" last 5 day mean AITT\", np.mean(flowdf.iloc[-7500*5:, 4]))\n",
    "print(\" last 5 day mean car-only AITT\", np.mean((b[\"tt\"])))\n",
    "print(\" first day mean AITT\", np.mean(flowdf.iloc[:7500, 4]))\n",
    "print(\" last day mean AITT\", np.mean(flowdf.iloc[-7500:, 4]))\n",
    "print(\" last 5 day sw\", np.mean(swvec[-5:]/7500))\n",
    "print(\" last 5 day PT user number\", np.mean(ptsharevec[-5:]))\n",
    "print(\" last 5 day price\", np.round(np.mean(pricevec[-5:]),2 ))\n"
   ]
  },
  {
   "cell_type": "code",
   "execution_count": null,
   "metadata": {},
   "outputs": [
    {
     "name": "stdout",
     "output_type": "stream",
     "text": [
      " last 5 day mean AITT 63.63484325657756\n",
      " last 5 day mean car-only AITT 64.23865358920513\n",
      " first day mean AITT 45.38129324550003\n",
      " last day mean AITT 63.464551083681\n",
      " last 5 day sw -0.10039703411891118\n",
      " last 5 day PT user number 1068.4\n",
      " last 5 day price -0.0\n"
     ]
    }
   ],
   "source": [
    "output_dir = \"../output/MFD/Trinity/A_0_AR_orig/\"\n",
    "swvec = np.load(output_dir+\"swvec.npy\")\n",
    "ptsharevec = np.load(output_dir+\"ptsharevec.npy\")\n",
    "pricevec = np.load(output_dir+\"pricevec.npy\")\n",
    "flowdf =  pd.read_csv(output_dir+\"flowdf.csv\")\n",
    "a = flowdf.iloc[-7500*5:]\n",
    "b = a[a[\"departure\"]!=-1]\n",
    "print(\" last 5 day mean AITT\", np.mean(flowdf.iloc[-7500*5:, 4]))\n",
    "print(\" last 5 day mean car-only AITT\", np.mean((b[\"tt\"])))\n",
    "print(\" first day mean AITT\", np.mean(flowdf.iloc[:7500, 4]))\n",
    "print(\" last day mean AITT\", np.mean(flowdf.iloc[-7500:, 4]))\n",
    "print(\" last 5 day sw\", np.mean(swvec[-5:]/7500))\n",
    "print(\" last 5 day PT user number\", np.mean(ptsharevec[-5:]))\n",
    "print(\" last 5 day price\", np.round(np.mean(pricevec[-5:]),2 ))\n"
   ]
  },
  {
   "cell_type": "code",
   "execution_count": null,
   "metadata": {},
   "outputs": [
    {
     "data": {
      "text/plain": [
       "1916179.7166975169"
      ]
     },
     "execution_count": 18,
     "metadata": {},
     "output_type": "execute_result"
    }
   ],
   "source": [
    "np.sum(np.load(\"../input_pt_1_h/NT_util.npy\"))"
   ]
  },
  {
   "cell_type": "code",
   "execution_count": null,
   "metadata": {},
   "outputs": [
    {
     "data": {
      "text/plain": [
       "1593.074972129195"
      ]
     },
     "execution_count": 19,
     "metadata": {},
     "output_type": "execute_result"
    }
   ],
   "source": [
    "np.sum(np.load(\"../input_pt_1_h/vot.npy\"))"
   ]
  },
  {
   "cell_type": "code",
   "execution_count": null,
   "metadata": {},
   "outputs": [
    {
     "data": {
      "text/plain": [
       "array([0.79774942, 0.16511766, 0.06685928, ..., 0.14721664, 0.193332  ,\n",
       "       0.14344158])"
      ]
     },
     "execution_count": 28,
     "metadata": {},
     "output_type": "execute_result"
    }
   ],
   "source": [
    "np.load(\"../input_pt_1_h/vot.npy\")"
   ]
  },
  {
   "cell_type": "code",
   "execution_count": null,
   "metadata": {},
   "outputs": [
    {
     "data": {
      "text/plain": [
       "array([534, 431, 430, ..., 514, 560, 417])"
      ]
     },
     "execution_count": 26,
     "metadata": {},
     "output_type": "execute_result"
    }
   ],
   "source": [
    "np.load(\"../input_pt_1_h/desiredArrival.npy\")"
   ]
  },
  {
   "cell_type": "code",
   "execution_count": null,
   "metadata": {},
   "outputs": [
    {
     "data": {
      "text/plain": [
       "array([[ 0.46152728, -0.35914695, -5.56096113, ..., -1.17881028,\n",
       "        -4.87370835, -2.1239483 ],\n",
       "       [ 0.1410901 , -4.88901887, -0.45715082, ..., -0.83354541,\n",
       "         1.02835858,  0.19748241],\n",
       "       [ 0.71483539, -1.09572535, -0.07324146, ..., -1.13583452,\n",
       "        -0.51300929,  0.29978061],\n",
       "       ...,\n",
       "       [-0.90088249, -3.63493755, -0.25337156, ..., -0.73349433,\n",
       "         2.21431728, -1.43743084],\n",
       "       [-1.46639453,  1.15284735,  0.91890141, ...,  0.3969428 ,\n",
       "        -2.43762759,  0.70710913],\n",
       "       [ 1.73554828,  0.72543451, -0.51624891, ...,  1.34409181,\n",
       "        -0.92546521, -0.3464547 ]])"
      ]
     },
     "execution_count": 27,
     "metadata": {},
     "output_type": "execute_result"
    }
   ],
   "source": [
    "np.load(\"../input_pt_1_h/user_eps.npy\")"
   ]
  },
  {
   "cell_type": "code",
   "execution_count": null,
   "metadata": {},
   "outputs": [
    {
     "data": {
      "text/plain": [
       "array([0.59219266, 0.07518565, 0.02757569, ..., 0.03463749, 0.13699751,\n",
       "       0.04943908])"
      ]
     },
     "execution_count": 29,
     "metadata": {},
     "output_type": "execute_result"
    }
   ],
   "source": [
    "np.load(\"../input_pt_1_h/sde.npy\")"
   ]
  },
  {
   "cell_type": "code",
   "execution_count": null,
   "metadata": {},
   "outputs": [
    {
     "data": {
      "text/plain": [
       "array([1.49074453, 0.24487923, 0.12801811, ..., 0.27543915, 0.32879485,\n",
       "       0.30003743])"
      ]
     },
     "execution_count": 30,
     "metadata": {},
     "output_type": "execute_result"
    }
   ],
   "source": [
    "np.load(\"../input_pt_1_h/sdl.npy\")"
   ]
  },
  {
   "cell_type": "code",
   "execution_count": null,
   "metadata": {},
   "outputs": [
    {
     "data": {
      "text/plain": [
       "array([ 52145.6102197 ,  53605.4162699 ,  56052.35615493,  59547.11664389,\n",
       "        65146.65321393,  71761.94384366,  81458.71791468,  94172.56771294,\n",
       "       108525.48142422, 131505.93300866, 155857.87115129, 181982.75079154,\n",
       "       144989.05484477,  97300.44146475,  82664.91928835,  76309.50988191,\n",
       "        72475.27217958,  70309.71960184,  68272.20445318,  66353.33034239,\n",
       "        65501.34642376,  63919.80379028,  63426.22933534,  63112.31711306,\n",
       "        61230.85225738,  60845.7109612 ,  59820.0413933 ,  59479.93404408,\n",
       "        59141.56499794,  58613.89623054])"
      ]
     },
     "execution_count": 31,
     "metadata": {},
     "output_type": "execute_result"
    }
   ],
   "source": [
    "np.load(output_dir+\"sdl_util_vec.npy\")"
   ]
  },
  {
   "cell_type": "code",
   "execution_count": null,
   "metadata": {},
   "outputs": [
    {
     "data": {
      "text/plain": [
       "array([2160.16829193, 2114.74655851, 2081.8464235 , 2032.74967683,\n",
       "       1944.04415193, 1867.93053709, 1784.82809823, 1736.94788784,\n",
       "       1718.54092661, 1688.84802584, 1681.86626185, 1653.17850857,\n",
       "       1642.34768076, 1673.53307689, 2011.26928396, 2231.73702562,\n",
       "       2385.77431801, 2504.35705748, 2596.88529021, 2712.83211562,\n",
       "       2802.68016275, 2892.49627525, 2911.32334408, 2954.35837697,\n",
       "       3068.56988127, 3090.15485028, 3170.6692745 , 3170.52739923,\n",
       "       3182.527985  , 3205.22046984])"
      ]
     },
     "execution_count": 15,
     "metadata": {},
     "output_type": "execute_result"
    }
   ],
   "source": [
    "np.load(output_dir+\"sde_util_vec.npy\")"
   ]
  },
  {
   "cell_type": "code",
   "execution_count": null,
   "metadata": {},
   "outputs": [
    {
     "data": {
      "text/plain": [
       "array([2062686.93071851, 2062686.93071851, 2062686.93071851,\n",
       "       2062686.93071851, 2062686.93071851, 2062686.93071851,\n",
       "       2062686.93071851, 2062686.93071851, 2062686.93071851,\n",
       "       2062686.93071851, 2062686.93071851, 2062686.93071851,\n",
       "       2062686.93071851, 2062686.93071851, 2062686.93071851,\n",
       "       2062686.93071851, 2062686.93071851, 2062686.93071851,\n",
       "       2062686.93071851, 2062686.93071851, 2062686.93071851,\n",
       "       2062686.93071851, 2062686.93071851, 2062686.93071851,\n",
       "       2062686.93071851, 2062686.93071851, 2062686.93071851,\n",
       "       2062686.93071851, 2062686.93071851, 2062686.93071851])"
      ]
     },
     "execution_count": 16,
     "metadata": {},
     "output_type": "execute_result"
    }
   ],
   "source": [
    "np.load(output_dir+\"I_util_vec.npy\")"
   ]
  },
  {
   "cell_type": "code",
   "execution_count": null,
   "metadata": {},
   "outputs": [
    {
     "data": {
      "text/plain": [
       "array([   25.6217193 ,    29.27225756,    39.08131463,    42.33015687,\n",
       "          45.33648755,    51.31762148,    51.71757415,    59.40138202,\n",
       "          73.88776334,    97.55336172,   165.73599558,   394.62074736,\n",
       "        3466.93000947,  7210.10962183,  8662.01852957,  9390.04221583,\n",
       "        9703.05813375,  9855.26607402, 10017.67167328,  9959.6519812 ,\n",
       "       10000.53720101, 10053.79307751, 10079.54265121,  9897.40522393,\n",
       "        9977.55802297,  9936.59398548,  9875.72871749,  9841.1603999 ,\n",
       "        9753.85759443,  9759.88503343])"
      ]
     },
     "execution_count": 17,
     "metadata": {},
     "output_type": "execute_result"
    }
   ],
   "source": [
    "np.load(output_dir+\"ptwaiting_util_vec.npy\")"
   ]
  },
  {
   "cell_type": "code",
   "execution_count": null,
   "metadata": {},
   "outputs": [
    {
     "ename": "FileNotFoundError",
     "evalue": "[Errno 2] No such file or directory: '../output/MFD_30/Trinity/A_3_8_AR_orig/swvec.npy'",
     "output_type": "error",
     "traceback": [
      "\u001b[0;31m---------------------------------------------------------------------------\u001b[0m",
      "\u001b[0;31mFileNotFoundError\u001b[0m                         Traceback (most recent call last)",
      "Cell \u001b[0;32mIn[6], line 2\u001b[0m\n\u001b[1;32m      1\u001b[0m output_dir \u001b[38;5;241m=\u001b[39m \u001b[38;5;124m\"\u001b[39m\u001b[38;5;124m../output/MFD_30/Trinity/A_3_8_AR_orig/\u001b[39m\u001b[38;5;124m\"\u001b[39m\n\u001b[0;32m----> 2\u001b[0m swvec \u001b[38;5;241m=\u001b[39m \u001b[43mnp\u001b[49m\u001b[38;5;241;43m.\u001b[39;49m\u001b[43mload\u001b[49m\u001b[43m(\u001b[49m\u001b[43moutput_dir\u001b[49m\u001b[38;5;241;43m+\u001b[39;49m\u001b[38;5;124;43m\"\u001b[39;49m\u001b[38;5;124;43mswvec.npy\u001b[39;49m\u001b[38;5;124;43m\"\u001b[39;49m\u001b[43m)\u001b[49m\n\u001b[1;32m      3\u001b[0m ptsharevec \u001b[38;5;241m=\u001b[39m np\u001b[38;5;241m.\u001b[39mload(output_dir\u001b[38;5;241m+\u001b[39m\u001b[38;5;124m\"\u001b[39m\u001b[38;5;124mptsharevec.npy\u001b[39m\u001b[38;5;124m\"\u001b[39m)\n\u001b[1;32m      4\u001b[0m pricevec \u001b[38;5;241m=\u001b[39m np\u001b[38;5;241m.\u001b[39mload(output_dir\u001b[38;5;241m+\u001b[39m\u001b[38;5;124m\"\u001b[39m\u001b[38;5;124mpricevec.npy\u001b[39m\u001b[38;5;124m\"\u001b[39m)\n",
      "File \u001b[0;32m~/py38/lib/python3.8/site-packages/numpy/lib/npyio.py:405\u001b[0m, in \u001b[0;36mload\u001b[0;34m(file, mmap_mode, allow_pickle, fix_imports, encoding, max_header_size)\u001b[0m\n\u001b[1;32m    403\u001b[0m     own_fid \u001b[38;5;241m=\u001b[39m \u001b[38;5;28;01mFalse\u001b[39;00m\n\u001b[1;32m    404\u001b[0m \u001b[38;5;28;01melse\u001b[39;00m:\n\u001b[0;32m--> 405\u001b[0m     fid \u001b[38;5;241m=\u001b[39m stack\u001b[38;5;241m.\u001b[39menter_context(\u001b[38;5;28;43mopen\u001b[39;49m\u001b[43m(\u001b[49m\u001b[43mos_fspath\u001b[49m\u001b[43m(\u001b[49m\u001b[43mfile\u001b[49m\u001b[43m)\u001b[49m\u001b[43m,\u001b[49m\u001b[43m \u001b[49m\u001b[38;5;124;43m\"\u001b[39;49m\u001b[38;5;124;43mrb\u001b[39;49m\u001b[38;5;124;43m\"\u001b[39;49m\u001b[43m)\u001b[49m)\n\u001b[1;32m    406\u001b[0m     own_fid \u001b[38;5;241m=\u001b[39m \u001b[38;5;28;01mTrue\u001b[39;00m\n\u001b[1;32m    408\u001b[0m \u001b[38;5;66;03m# Code to distinguish from NumPy binary files and pickles.\u001b[39;00m\n",
      "\u001b[0;31mFileNotFoundError\u001b[0m: [Errno 2] No such file or directory: '../output/MFD_30/Trinity/A_3_8_AR_orig/swvec.npy'"
     ]
    }
   ],
   "source": [
    "output_dir = \"../output/MFD_30/Trinity/A_3_8_AR_orig/\"\n",
    "swvec = np.load(output_dir+\"swvec.npy\")\n",
    "ptsharevec = np.load(output_dir+\"ptsharevec.npy\")\n",
    "pricevec = np.load(output_dir+\"pricevec.npy\")\n",
    "flowdf =  pd.read_csv(output_dir+\"flowdf.csv\")\n",
    "a = flowdf.iloc[-7500*5:]\n",
    "b = a[a[\"departure\"]!=-1]\n",
    "print(\" last 5 day mean AITT\", np.mean(flowdf.iloc[-7500*5:, 4]))\n",
    "print(\" last 5 day mean car-only AITT\", np.mean(b[\"tt\"]))\n",
    "print(\" first day mean AITT\", np.mean(flowdf.iloc[:7500, 4]))\n",
    "print(\" last day mean AITT\", np.mean(flowdf.iloc[-7500:, 4]))\n",
    "print(\" last 5 day sw\", np.mean(swvec[-5:]/7500))\n",
    "print(\" last 5 day PT user number\", np.mean(ptsharevec[-5:]))\n",
    "print(\" last 5 day price\", np.round(np.mean(pricevec[-5:]),2 ))\n"
   ]
  },
  {
   "cell_type": "code",
   "execution_count": null,
   "metadata": {},
   "outputs": [
    {
     "data": {
      "text/plain": [
       "294430.95"
      ]
     },
     "execution_count": 22,
     "metadata": {},
     "output_type": "execute_result"
    }
   ],
   "source": [
    "1845  * 60 +(7500-1845) * 32.49"
   ]
  },
  {
   "cell_type": "code",
   "execution_count": null,
   "metadata": {},
   "outputs": [
    {
     "data": {
      "text/plain": [
       "1916179.7166975169"
      ]
     },
     "execution_count": 7,
     "metadata": {},
     "output_type": "execute_result"
    }
   ],
   "source": [
    "np.sum(np.load(\"../input_pt_1_h/NT_util.npy\"))"
   ]
  },
  {
   "cell_type": "code",
   "execution_count": null,
   "metadata": {},
   "outputs": [
    {
     "data": {
      "text/plain": [
       "263475.0"
      ]
     },
     "execution_count": 23,
     "metadata": {},
     "output_type": "execute_result"
    }
   ],
   "source": [
    "35.13 * 7500"
   ]
  },
  {
   "cell_type": "code",
   "execution_count": null,
   "metadata": {},
   "outputs": [
    {
     "ename": "FileNotFoundError",
     "evalue": "[Errno 2] No such file or directory: '../output/MFD_30/Trinity/A_0_AR_lower/swvec.npy'",
     "output_type": "error",
     "traceback": [
      "\u001b[0;31m---------------------------------------------------------------------------\u001b[0m",
      "\u001b[0;31mFileNotFoundError\u001b[0m                         Traceback (most recent call last)",
      "Cell \u001b[0;32mIn[24], line 2\u001b[0m\n\u001b[1;32m      1\u001b[0m output_dir \u001b[38;5;241m=\u001b[39m \u001b[38;5;124m\"\u001b[39m\u001b[38;5;124m../output/MFD_30/Trinity/A_0_AR_lower/\u001b[39m\u001b[38;5;124m\"\u001b[39m\n\u001b[0;32m----> 2\u001b[0m swvec \u001b[38;5;241m=\u001b[39m \u001b[43mnp\u001b[49m\u001b[38;5;241;43m.\u001b[39;49m\u001b[43mload\u001b[49m\u001b[43m(\u001b[49m\u001b[43moutput_dir\u001b[49m\u001b[38;5;241;43m+\u001b[39;49m\u001b[38;5;124;43m\"\u001b[39;49m\u001b[38;5;124;43mswvec.npy\u001b[39;49m\u001b[38;5;124;43m\"\u001b[39;49m\u001b[43m)\u001b[49m\n\u001b[1;32m      3\u001b[0m ptsharevec \u001b[38;5;241m=\u001b[39m np\u001b[38;5;241m.\u001b[39mload(output_dir\u001b[38;5;241m+\u001b[39m\u001b[38;5;124m\"\u001b[39m\u001b[38;5;124mptsharevec.npy\u001b[39m\u001b[38;5;124m\"\u001b[39m)\n\u001b[1;32m      4\u001b[0m pricevec \u001b[38;5;241m=\u001b[39m np\u001b[38;5;241m.\u001b[39mload(output_dir\u001b[38;5;241m+\u001b[39m\u001b[38;5;124m\"\u001b[39m\u001b[38;5;124mpricevec.npy\u001b[39m\u001b[38;5;124m\"\u001b[39m)\n",
      "File \u001b[0;32m~/py38/lib/python3.8/site-packages/numpy/lib/npyio.py:405\u001b[0m, in \u001b[0;36mload\u001b[0;34m(file, mmap_mode, allow_pickle, fix_imports, encoding, max_header_size)\u001b[0m\n\u001b[1;32m    403\u001b[0m     own_fid \u001b[38;5;241m=\u001b[39m \u001b[38;5;28;01mFalse\u001b[39;00m\n\u001b[1;32m    404\u001b[0m \u001b[38;5;28;01melse\u001b[39;00m:\n\u001b[0;32m--> 405\u001b[0m     fid \u001b[38;5;241m=\u001b[39m stack\u001b[38;5;241m.\u001b[39menter_context(\u001b[38;5;28;43mopen\u001b[39;49m\u001b[43m(\u001b[49m\u001b[43mos_fspath\u001b[49m\u001b[43m(\u001b[49m\u001b[43mfile\u001b[49m\u001b[43m)\u001b[49m\u001b[43m,\u001b[49m\u001b[43m \u001b[49m\u001b[38;5;124;43m\"\u001b[39;49m\u001b[38;5;124;43mrb\u001b[39;49m\u001b[38;5;124;43m\"\u001b[39;49m\u001b[43m)\u001b[49m)\n\u001b[1;32m    406\u001b[0m     own_fid \u001b[38;5;241m=\u001b[39m \u001b[38;5;28;01mTrue\u001b[39;00m\n\u001b[1;32m    408\u001b[0m \u001b[38;5;66;03m# Code to distinguish from NumPy binary files and pickles.\u001b[39;00m\n",
      "\u001b[0;31mFileNotFoundError\u001b[0m: [Errno 2] No such file or directory: '../output/MFD_30/Trinity/A_0_AR_lower/swvec.npy'"
     ]
    }
   ],
   "source": [
    "output_dir = \"../output/MFD_30/Trinity/A_0_AR_lower/\"\n",
    "swvec = np.load(output_dir+\"swvec.npy\")\n",
    "ptsharevec = np.load(output_dir+\"ptsharevec.npy\")\n",
    "pricevec = np.load(output_dir+\"pricevec.npy\")\n",
    "flowdf =  pd.read_csv(output_dir+\"flowdf.csv\")\n",
    "a = flowdf.iloc[-7500*5:]\n",
    "b = a[a[\"departure\"]!=-1]\n",
    "print(\" last 5 day mean AITT\", np.mean(flowdf.iloc[-7500*5:, 4]))\n",
    "print(\" last 5 day mean car-only AITT\", np.mean(np.mean(b[\"tt\"])))\n",
    "print(\" first day mean AITT\", np.mean(flowdf.iloc[:7500, 4]))\n",
    "print(\" last day mean AITT\", np.mean(flowdf.iloc[-7500:, 4]))\n",
    "print(\" last 5 day sw\", np.mean(swvec[-5:]/7500))\n",
    "print(\" last 5 day PT user number\", np.mean(ptsharevec[-5:]))\n",
    "print(\" last 5 day price\", np.round(np.mean(pricevec[-5:]),2 ))\n"
   ]
  },
  {
   "cell_type": "code",
   "execution_count": null,
   "metadata": {},
   "outputs": [
    {
     "name": "stdout",
     "output_type": "stream",
     "text": [
      " last 5 day mean AITT 34.775442539730484\n",
      " last 5 day mean car-only AITT 30.52259611717068\n",
      " first day mean AITT 35.97581353903076\n",
      " last day mean AITT 34.77483642624205\n",
      " last 5 day sw 6.282010143150081\n",
      " last 5 day PT user number 2516.0\n",
      " last 5 day price 1.7\n"
     ]
    }
   ],
   "source": [
    "output_dir = \"../output/MFD_30/Trinity/A_3_8_AR_lower/\"\n",
    "swvec = np.load(output_dir+\"swvec.npy\")\n",
    "ptsharevec = np.load(output_dir+\"ptsharevec.npy\")\n",
    "pricevec = np.load(output_dir+\"pricevec.npy\")\n",
    "flowdf =  pd.read_csv(output_dir+\"flowdf.csv\")\n",
    "a = flowdf.iloc[-7500*5:]\n",
    "b = a[a[\"departure\"]!=-1]\n",
    "print(\" last 5 day mean AITT\", np.mean(flowdf.iloc[-7500*5:, 4]))\n",
    "print(\" last 5 day mean car-only AITT\", np.mean(np.mean(b[\"tt\"])))\n",
    "print(\" first day mean AITT\", np.mean(flowdf.iloc[:7500, 4]))\n",
    "print(\" last day mean AITT\", np.mean(flowdf.iloc[-7500:, 4]))\n",
    "print(\" last 5 day sw\", np.mean(swvec[-5:]/7500))\n",
    "print(\" last 5 day PT user number\", np.mean(ptsharevec[-5:]))\n",
    "print(\" last 5 day price\", np.round(np.mean(pricevec[-5:]),2 ))\n"
   ]
  },
  {
   "cell_type": "code",
   "execution_count": null,
   "metadata": {},
   "outputs": [
    {
     "name": "stdout",
     "output_type": "stream",
     "text": [
      " last 5 day mean AITT 53.38972176011403\n",
      " last 5 day mean car-only AITT 55.243069936155436\n",
      " first day mean AITT 45.03425110104667\n",
      " last day mean AITT 53.18240517252677\n",
      " last 5 day sw 262.24576030227826\n",
      " last 5 day PT user number 1154.2\n",
      " last 5 day price 1.0\n"
     ]
    }
   ],
   "source": [
    "output_dir = \"../output/MFD/NT/\"\n",
    "swvec = np.load(output_dir+\"swvec.npy\")\n",
    "ptsharevec = np.load(output_dir+\"ptsharevec.npy\")\n",
    "pricevec = np.load(output_dir+\"pricevec.npy\")\n",
    "flowdf =  pd.read_csv(output_dir+\"flowdf.csv\")\n",
    "a = flowdf.iloc[-7500*5:]\n",
    "b = a[a[\"departure\"]!=-1]\n",
    "print(\" last 5 day mean AITT\", np.mean(flowdf.iloc[-7500*5:, 4]))\n",
    "print(\" last 5 day mean car-only AITT\", np.mean(np.mean(b[\"tt\"])))\n",
    "print(\" first day mean AITT\", np.mean(flowdf.iloc[:7500, 4]))\n",
    "print(\" last day mean AITT\", np.mean(flowdf.iloc[-7500:, 4]))\n",
    "print(\" last 5 day sw\", np.mean(swvec[-5:]/7500))\n",
    "print(\" last 5 day PT user number\", np.mean(ptsharevec[-5:]))\n",
    "print(\" last 5 day price\", np.round(np.mean(pricevec[-5:]),2 ))\n"
   ]
  },
  {
   "cell_type": "code",
   "execution_count": null,
   "metadata": {},
   "outputs": [
    {
     "name": "stdout",
     "output_type": "stream",
     "text": [
      " last 5 day mean AITT 53.176344067039636\n",
      " last 5 day mean car-only AITT 55.001296568372815\n",
      " first day mean AITT 45.04085094587849\n",
      " last day mean AITT 53.083903658085084\n",
      " last 5 day sw -0.07788197990658006\n",
      " last 5 day PT user number 1159.8\n",
      " last 5 day price -0.0\n"
     ]
    }
   ],
   "source": [
    "output_dir = \"../output/MFD/Trinity/A_0_AR_orig/\"\n",
    "swvec = np.load(output_dir+\"swvec.npy\")\n",
    "ptsharevec = np.load(output_dir+\"ptsharevec.npy\")\n",
    "pricevec = np.load(output_dir+\"pricevec.npy\")\n",
    "flowdf =  pd.read_csv(output_dir+\"flowdf.csv\")\n",
    "a = flowdf.iloc[-7500*5:]\n",
    "b = a[a[\"departure\"]!=-1]\n",
    "print(\" last 5 day mean AITT\", np.mean(flowdf.iloc[-7500*5:, 4]))\n",
    "print(\" last 5 day mean car-only AITT\", np.mean(np.mean(b[\"tt\"])))\n",
    "print(\" first day mean AITT\", np.mean(flowdf.iloc[:7500, 4]))\n",
    "print(\" last day mean AITT\", np.mean(flowdf.iloc[-7500:, 4]))\n",
    "print(\" last 5 day sw\", np.mean(swvec[-5:]/7500))\n",
    "print(\" last 5 day PT user number\", np.mean(ptsharevec[-5:]))\n",
    "print(\" last 5 day price\", np.round(np.mean(pricevec[-5:]),2 ))\n"
   ]
  },
  {
   "cell_type": "code",
   "execution_count": null,
   "metadata": {},
   "outputs": [
    {
     "name": "stdout",
     "output_type": "stream",
     "text": [
      " last 5 day mean AITT 34.153217144605904\n",
      " last 5 day mean car-only AITT 32.45730344910454\n",
      " first day mean AITT 34.05447480715933\n",
      " last day mean AITT 34.15503366145166\n",
      " last 5 day sw 13.856313212243396\n",
      " last 5 day PT user number 1184.0\n",
      " last 5 day price 1.15\n"
     ]
    }
   ],
   "source": [
    "output_dir = \"../output/MFD_60/Trinity/A_3_8_AR_orig/\"\n",
    "swvec = np.load(output_dir+\"swvec.npy\")\n",
    "ptsharevec = np.load(output_dir+\"ptsharevec.npy\")\n",
    "pricevec = np.load(output_dir+\"pricevec.npy\")\n",
    "flowdf =  pd.read_csv(output_dir+\"flowdf.csv\")\n",
    "a = flowdf.iloc[-7500*5:]\n",
    "b = a[a[\"departure\"]!=-1]\n",
    "print(\" last 5 day mean AITT\", np.mean(flowdf.iloc[-7500*5:, 4]))\n",
    "print(\" last 5 day mean car-only AITT\", np.mean(np.mean(b[\"tt\"])))\n",
    "print(\" first day mean AITT\", np.mean(flowdf.iloc[:7500, 4]))\n",
    "print(\" last day mean AITT\", np.mean(flowdf.iloc[-7500:, 4]))\n",
    "print(\" last 5 day sw\", np.mean(swvec[-5:]/7500))\n",
    "print(\" last 5 day PT user number\", np.mean(ptsharevec[-5:]))\n",
    "print(\" last 5 day price\", np.round(np.mean(pricevec[-5:]),2 ))\n"
   ]
  },
  {
   "cell_type": "code",
   "execution_count": null,
   "metadata": {},
   "outputs": [
    {
     "name": "stdout",
     "output_type": "stream",
     "text": [
      " last 5 day mean AITT 52.40037100680291\n",
      " last 5 day mean car-only AITT 54.022947260025994\n",
      " first day mean AITT 45.04085094587849\n",
      " last day mean AITT 52.455975977915465\n",
      " last 5 day sw 0.10219390774174641\n",
      " last 5 day PT user number 1124.4\n",
      " last 5 day price -0.0\n"
     ]
    }
   ],
   "source": [
    "output_dir = \"../output/MFD_60/Trinity/A_0_AR_lower/\"\n",
    "swvec = np.load(output_dir+\"swvec.npy\")\n",
    "ptsharevec = np.load(output_dir+\"ptsharevec.npy\")\n",
    "pricevec = np.load(output_dir+\"pricevec.npy\")\n",
    "flowdf =  pd.read_csv(output_dir+\"flowdf.csv\")\n",
    "a = flowdf.iloc[-7500*5:]\n",
    "b = a[a[\"departure\"]!=-1]\n",
    "print(\" last 5 day mean AITT\", np.mean(flowdf.iloc[-7500*5:, 4]))\n",
    "print(\" last 5 day mean car-only AITT\", np.mean(np.mean(b[\"tt\"])))\n",
    "print(\" first day mean AITT\", np.mean(flowdf.iloc[:7500, 4]))\n",
    "print(\" last day mean AITT\", np.mean(flowdf.iloc[-7500:, 4]))\n",
    "print(\" last 5 day sw\", np.mean(swvec[-5:]/7500))\n",
    "print(\" last 5 day PT user number\", np.mean(ptsharevec[-5:]))\n",
    "print(\" last 5 day price\", np.round(np.mean(pricevec[-5:]),2 ))\n"
   ]
  },
  {
   "cell_type": "code",
   "execution_count": null,
   "metadata": {},
   "outputs": [
    {
     "ename": "FileNotFoundError",
     "evalue": "[Errno 2] No such file or directory: '../output/MFD_60/Trinity/A_3_8_AR_lower/swvec.npy'",
     "output_type": "error",
     "traceback": [
      "\u001b[0;31m---------------------------------------------------------------------------\u001b[0m",
      "\u001b[0;31mFileNotFoundError\u001b[0m                         Traceback (most recent call last)",
      "Cell \u001b[0;32mIn[4], line 2\u001b[0m\n\u001b[1;32m      1\u001b[0m output_dir \u001b[38;5;241m=\u001b[39m \u001b[38;5;124m\"\u001b[39m\u001b[38;5;124m../output/MFD_60/Trinity/A_3_8_AR_lower/\u001b[39m\u001b[38;5;124m\"\u001b[39m\n\u001b[0;32m----> 2\u001b[0m swvec \u001b[38;5;241m=\u001b[39m \u001b[43mnp\u001b[49m\u001b[38;5;241;43m.\u001b[39;49m\u001b[43mload\u001b[49m\u001b[43m(\u001b[49m\u001b[43moutput_dir\u001b[49m\u001b[38;5;241;43m+\u001b[39;49m\u001b[38;5;124;43m\"\u001b[39;49m\u001b[38;5;124;43mswvec.npy\u001b[39;49m\u001b[38;5;124;43m\"\u001b[39;49m\u001b[43m)\u001b[49m\n\u001b[1;32m      3\u001b[0m ptsharevec \u001b[38;5;241m=\u001b[39m np\u001b[38;5;241m.\u001b[39mload(output_dir\u001b[38;5;241m+\u001b[39m\u001b[38;5;124m\"\u001b[39m\u001b[38;5;124mptsharevec.npy\u001b[39m\u001b[38;5;124m\"\u001b[39m)\n\u001b[1;32m      4\u001b[0m pricevec \u001b[38;5;241m=\u001b[39m np\u001b[38;5;241m.\u001b[39mload(output_dir\u001b[38;5;241m+\u001b[39m\u001b[38;5;124m\"\u001b[39m\u001b[38;5;124mpricevec.npy\u001b[39m\u001b[38;5;124m\"\u001b[39m)\n",
      "File \u001b[0;32m~/py38/lib/python3.8/site-packages/numpy/lib/npyio.py:405\u001b[0m, in \u001b[0;36mload\u001b[0;34m(file, mmap_mode, allow_pickle, fix_imports, encoding, max_header_size)\u001b[0m\n\u001b[1;32m    403\u001b[0m     own_fid \u001b[38;5;241m=\u001b[39m \u001b[38;5;28;01mFalse\u001b[39;00m\n\u001b[1;32m    404\u001b[0m \u001b[38;5;28;01melse\u001b[39;00m:\n\u001b[0;32m--> 405\u001b[0m     fid \u001b[38;5;241m=\u001b[39m stack\u001b[38;5;241m.\u001b[39menter_context(\u001b[38;5;28;43mopen\u001b[39;49m\u001b[43m(\u001b[49m\u001b[43mos_fspath\u001b[49m\u001b[43m(\u001b[49m\u001b[43mfile\u001b[49m\u001b[43m)\u001b[49m\u001b[43m,\u001b[49m\u001b[43m \u001b[49m\u001b[38;5;124;43m\"\u001b[39;49m\u001b[38;5;124;43mrb\u001b[39;49m\u001b[38;5;124;43m\"\u001b[39;49m\u001b[43m)\u001b[49m)\n\u001b[1;32m    406\u001b[0m     own_fid \u001b[38;5;241m=\u001b[39m \u001b[38;5;28;01mTrue\u001b[39;00m\n\u001b[1;32m    408\u001b[0m \u001b[38;5;66;03m# Code to distinguish from NumPy binary files and pickles.\u001b[39;00m\n",
      "\u001b[0;31mFileNotFoundError\u001b[0m: [Errno 2] No such file or directory: '../output/MFD_60/Trinity/A_3_8_AR_lower/swvec.npy'"
     ]
    }
   ],
   "source": [
    "output_dir = \"../output/MFD_60/Trinity/A_3_8_AR_lower/\"\n",
    "swvec = np.load(output_dir+\"swvec.npy\")\n",
    "ptsharevec = np.load(output_dir+\"ptsharevec.npy\")\n",
    "pricevec = np.load(output_dir+\"pricevec.npy\")\n",
    "flowdf =  pd.read_csv(output_dir+\"flowdf.csv\")\n",
    "a = flowdf.iloc[-7500*5:]\n",
    "b = a[a[\"departure\"]!=-1]\n",
    "print(\" last 5 day mean AITT\", np.mean(flowdf.iloc[-7500*5:, 4]))\n",
    "print(\" last 5 day mean car-only AITT\", np.mean(np.mean(b[\"tt\"])))\n",
    "print(\" first day mean AITT\", np.mean(flowdf.iloc[:7500, 4]))\n",
    "print(\" last day mean AITT\", np.mean(flowdf.iloc[-7500:, 4]))\n",
    "print(\" last 5 day sw\", np.mean(swvec[-5:]/7500))\n",
    "print(\" last 5 day PT user number\", np.mean(ptsharevec[-5:]))\n",
    "print(\" last 5 day price\", np.round(np.mean(pricevec[-5:]),2 ))\n"
   ]
  },
  {
   "cell_type": "code",
   "execution_count": null,
   "metadata": {},
   "outputs": [
    {
     "name": "stdout",
     "output_type": "stream",
     "text": [
      " last 5 day mean AITT 53.38972176011403\n",
      " last 5 day mean car-only AITT 55.243069936155436\n",
      " first day mean AITT 45.03425110104667\n",
      " last day mean AITT 53.18240517252677\n",
      " last 5 day sw 262.24576030227826\n",
      " last 5 day PT user number 1154.2\n",
      " last 5 day price 1.0\n"
     ]
    }
   ],
   "source": [
    "output_dir = \"../output/MFD/NT/\"\n",
    "swvec = np.load(output_dir+\"swvec.npy\")\n",
    "ptsharevec = np.load(output_dir+\"ptsharevec.npy\")\n",
    "pricevec = np.load(output_dir+\"pricevec.npy\")\n",
    "flowdf =  pd.read_csv(output_dir+\"flowdf.csv\")\n",
    "a = flowdf.iloc[-7500*5:]\n",
    "b = a[a[\"departure\"]!=-1]\n",
    "print(\" last 5 day mean AITT\", np.mean(flowdf.iloc[-7500*5:, 4]))\n",
    "print(\" last 5 day mean car-only AITT\", np.mean(np.mean(b[\"tt\"])))\n",
    "print(\" first day mean AITT\", np.mean(flowdf.iloc[:7500, 4]))\n",
    "print(\" last day mean AITT\", np.mean(flowdf.iloc[-7500:, 4]))\n",
    "print(\" last 5 day sw\", np.mean(swvec[-5:]/7500))\n",
    "print(\" last 5 day PT user number\", np.mean(ptsharevec[-5:]))\n",
    "print(\" last 5 day price\", np.round(np.mean(pricevec[-5:]),2 ))\n"
   ]
  },
  {
   "cell_type": "code",
   "execution_count": null,
   "metadata": {},
   "outputs": [],
   "source": []
  }
 ],
 "metadata": {
  "kernelspec": {
   "display_name": "py38",
   "language": "python",
   "name": "python3"
  },
  "language_info": {
   "codemirror_mode": {
    "name": "ipython",
    "version": 3
   },
   "file_extension": ".py",
   "mimetype": "text/x-python",
   "name": "python",
   "nbconvert_exporter": "python",
   "pygments_lexer": "ipython3",
   "version": "3.8.17"
  },
  "orig_nbformat": 4
 },
 "nbformat": 4,
 "nbformat_minor": 2
}
